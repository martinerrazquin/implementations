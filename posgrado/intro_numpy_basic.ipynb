{
  "nbformat": 4,
  "nbformat_minor": 0,
  "metadata": {
    "colab": {
      "name": "0-2 -  Operatoria básica con NumPy + cipher",
      "provenance": []
    },
    "kernelspec": {
      "name": "python3",
      "display_name": "Python 3"
    },
    "language_info": {
      "name": "python"
    }
  },
  "cells": [
    {
      "cell_type": "markdown",
      "source": [
        "# NumPy\n",
        "\n",
        "**Num**erical **Py**thon es nuestra librería de cabecera, provee la estructura básica *core* que vamos a usar para casi todas las operaciones: el `numpy array`. Este es el vector/matriz/tensor que conocemos en matemática, con todas las propiedades típicas y esperables:\n",
        "\n",
        "* Todos los elementos tienen el mismo formato (real, entero, etc.)\n",
        "* La dimensión se fija al momento de definir la variable (pueden cambiar los valores, no las formas).\n",
        "* Si hacemos cosas como multiplicar por un escalar, la operación se propaga por *broadcasting* a todos los elementos del vector.\n",
        "\n",
        "Recomendamos fuertemente la lectura (parcial, no total) de la documentación oficial de la librería, tanto la [guía de uso](https://numpy.org/doc/stable/user/whatisnumpy.html) como la [lista de funcionalidades](https://numpy.org/doc/stable/reference/index.html).\n",
        "\n",
        "[Aquí](https://towardsdatascience.com/the-ultimate-beginners-guide-to-numpy-f5a2f99aef54) hay un buen resumen sobre inicios con NumPy, de mayor extensión que el presente.\n",
        "\n",
        "[Aquí](https://www.datacamp.com/community/blog/python-numpy-cheat-sheet) hay un pequeño cheatsheet sobre métodos y funciones disponibles en el paquete."
      ],
      "metadata": {
        "id": "rIiWvX_DvPUU"
      }
    },
    {
      "cell_type": "markdown",
      "metadata": {
        "id": "bPTR8rkYaKfz"
      },
      "source": [
        "## Creación de `arrays`\n",
        "\n",
        "Importante: recordemos que los arrays no son necesariamente unidimensionales, pueden ser matrices o tensores de rango superior."
      ]
    },
    {
      "cell_type": "code",
      "metadata": {
        "id": "9Jk4mfPHvvoJ",
        "colab": {
          "base_uri": "https://localhost:8080/"
        },
        "outputId": "537ceb90-594d-4d3e-b291-70fd6e615860"
      },
      "source": [
        "import numpy as np\n",
        "\n",
        "a = np.array([[1,2],[3,4]])               # en base a un iterable de python, como es una lista\n",
        "b = np.arange(start=-1,stop=5, step=2)    # una sucesión de elementos, notar que el stop no es incluido\n",
        "c = np.linspace(start=0, stop=10, num=5)  # 5 puntos uniformemente distribuidos sobre [0,10], incluido extremos\n",
        "d = np.empty(shape=(2,3))                 # una matriz de 2x3 sin inicializar (es muy rápido)\n",
        "e = np.zeros((2,3))                       # una matriz de 2x3 inicializada con 0s\n",
        "\n",
        "print(a)\n",
        "print(b)\n",
        "print(c)\n",
        "print(d)\n",
        "print(e)"
      ],
      "execution_count": null,
      "outputs": [
        {
          "output_type": "stream",
          "name": "stdout",
          "text": [
            "[[1 2]\n",
            " [3 4]]\n",
            "[-1  1  3]\n",
            "[ 0.   2.5  5.   7.5 10. ]\n",
            "[[5.e-324 1.e-323 0.e+000]\n",
            " [5.e-324 1.e-323 0.e+000]]\n",
            "[[0. 0. 0.]\n",
            " [0. 0. 0.]]\n"
          ]
        }
      ]
    },
    {
      "cell_type": "markdown",
      "metadata": {
        "id": "pxUcJIlMQAkT"
      },
      "source": [
        "## Caracterización de un `array`"
      ]
    },
    {
      "cell_type": "code",
      "metadata": {
        "colab": {
          "base_uri": "https://localhost:8080/"
        },
        "id": "ck7m5YTdQE08",
        "outputId": "2c2236bc-4e63-47b8-967d-79daebd73d61"
      },
      "source": [
        "# uso de shape para observar las dimensiones de un array\n",
        "print(\"a tiene shape:\",a.shape)\n",
        "print(\"c tiene shape:\",c.shape)\n",
        "print(\"d tiene shape:\",d.shape)\n",
        "\n",
        "\n",
        "# len nos provee el largo del array (que suele ser la cantidad de filas)\n",
        "print(\"a tiene len:\",len(a))\n",
        "\n",
        "# size nos provee la cantidad de elementos del array\n",
        "print(\"a tiene size:\",a.size)"
      ],
      "execution_count": null,
      "outputs": [
        {
          "output_type": "stream",
          "name": "stdout",
          "text": [
            "a tiene shape: (2, 2)\n",
            "c tiene shape: (5,)\n",
            "d tiene shape: (2, 3)\n",
            "a tiene len: 2\n",
            "a tiene size: 4\n"
          ]
        }
      ]
    },
    {
      "cell_type": "markdown",
      "metadata": {
        "id": "hrkjWYUIFNXo"
      },
      "source": [
        "## Operaciones simples con `arrays`\n",
        "\n",
        "Algunas cuestiones importantes en NumPy son que:\n",
        "\n",
        "* Las operaciones se asumen elemento a elemento (*element-wise*), por ejemplo si $x,y \\in \\mathbb{R}^5$ entonces también $x · y = (x_1 · y_1, \\dots, x_5·y_5) \\in \\mathbb{R}^5$. Si se quiere el producto escalar, el operador `@` (de producto matricial) o la función `dot` son ambas opciones correctas.\n",
        "* Si las dimensiones no coinciden, se intenta \"expandir\" el menor a la dimensión correcta para *propagar* la operación. A esto se lo conoce como *broadcasting* y explica por qué si $x \\in \\mathbb{R}^3$ entonces $x + 5 = (x_1+5, x_2+5,x_3+5) \\in \\mathbb{R}^3$."
      ]
    },
    {
      "cell_type": "code",
      "metadata": {
        "colab": {
          "base_uri": "https://localhost:8080/"
        },
        "id": "NGhlf_M9FRLF",
        "outputId": "a886de51-de49-42f1-c9d8-72836772324e"
      },
      "source": [
        "# definimos algunos arrays primero\n",
        "x1 = np.array([1,2,3,4])\n",
        "x2 = np.array([5,6,7,8])\n",
        "m1 = np.array([[1,2],[3,4],[5,6]])\n",
        "y1 = np.array([5,6])\n",
        "print(\"x1 =\",x1)\n",
        "print(\"x2 =\",x2)\n",
        "print(\"m1 =\",m1)\n",
        "print(\"y1 =\",y1)"
      ],
      "execution_count": null,
      "outputs": [
        {
          "output_type": "stream",
          "name": "stdout",
          "text": [
            "x1 = [1 2 3 4]\n",
            "x2 = [5 6 7 8]\n",
            "m1 = [[1 2]\n",
            " [3 4]\n",
            " [5 6]]\n",
            "y1 = [5 6]\n"
          ]
        }
      ]
    },
    {
      "cell_type": "code",
      "metadata": {
        "colab": {
          "base_uri": "https://localhost:8080/"
        },
        "id": "FmcKruNbTtwB",
        "outputId": "73dfafca-1654-4c32-d4fe-7af4ceb86596"
      },
      "source": [
        "# suma de vectores\n",
        "x1+x2"
      ],
      "execution_count": null,
      "outputs": [
        {
          "output_type": "execute_result",
          "data": {
            "text/plain": [
              "array([ 6,  8, 10, 12])"
            ]
          },
          "metadata": {},
          "execution_count": 113
        }
      ]
    },
    {
      "cell_type": "code",
      "metadata": {
        "colab": {
          "base_uri": "https://localhost:8080/"
        },
        "id": "g7gb4mmyTw_P",
        "outputId": "e972a534-bb03-4823-dc4c-b83b5c014115"
      },
      "source": [
        "# suma con broadcasting\n",
        "x1+5"
      ],
      "execution_count": null,
      "outputs": [
        {
          "output_type": "execute_result",
          "data": {
            "text/plain": [
              "array([6, 7, 8, 9])"
            ]
          },
          "metadata": {},
          "execution_count": 114
        }
      ]
    },
    {
      "cell_type": "code",
      "metadata": {
        "colab": {
          "base_uri": "https://localhost:8080/"
        },
        "id": "mlLy1GtVT8Jm",
        "outputId": "1d0507f3-99db-4cd0-b66d-0bf7e5cbfa26"
      },
      "source": [
        "# producto de vectores\n",
        "# observar que es elemento a elemento\n",
        "x1*x2"
      ],
      "execution_count": null,
      "outputs": [
        {
          "output_type": "execute_result",
          "data": {
            "text/plain": [
              "array([ 5, 12, 21, 32])"
            ]
          },
          "metadata": {},
          "execution_count": 115
        }
      ]
    },
    {
      "cell_type": "code",
      "metadata": {
        "colab": {
          "base_uri": "https://localhost:8080/"
        },
        "id": "GqL3zqfQT-Si",
        "outputId": "702f4f02-b6aa-4fde-dce1-eff049212ef6"
      },
      "source": [
        "# producto escalar\n",
        "x1 @ x2"
      ],
      "execution_count": null,
      "outputs": [
        {
          "output_type": "execute_result",
          "data": {
            "text/plain": [
              "70"
            ]
          },
          "metadata": {},
          "execution_count": 116
        }
      ]
    },
    {
      "cell_type": "code",
      "metadata": {
        "colab": {
          "base_uri": "https://localhost:8080/"
        },
        "id": "lqaif5TwB4D3",
        "outputId": "0b394b29-ae7f-4096-84b5-e27c63c5ce07"
      },
      "source": [
        "# e^x1 vectorizado\n",
        "np.exp(x1)"
      ],
      "execution_count": null,
      "outputs": [
        {
          "output_type": "execute_result",
          "data": {
            "text/plain": [
              "array([ 2.71828183,  7.3890561 , 20.08553692, 54.59815003])"
            ]
          },
          "metadata": {},
          "execution_count": 117
        }
      ]
    },
    {
      "cell_type": "code",
      "metadata": {
        "colab": {
          "base_uri": "https://localhost:8080/"
        },
        "id": "AUb18VK6CBki",
        "outputId": "147d266f-528d-48d0-c8ad-086472a7a618"
      },
      "source": [
        "# suma acumulativa de valores de x1\n",
        "np.cumsum(x1)"
      ],
      "execution_count": null,
      "outputs": [
        {
          "output_type": "execute_result",
          "data": {
            "text/plain": [
              "array([ 1,  3,  6, 10])"
            ]
          },
          "metadata": {},
          "execution_count": 118
        }
      ]
    },
    {
      "cell_type": "code",
      "metadata": {
        "colab": {
          "base_uri": "https://localhost:8080/"
        },
        "id": "TcTpMVD1UAJh",
        "outputId": "ba51138a-6e45-43e2-e959-81c3c9e44526"
      },
      "source": [
        "# suma de un vector y una matriz con broadcasting\n",
        "# observar que se 'propaga' fila a fila\n",
        "m1 + y1"
      ],
      "execution_count": null,
      "outputs": [
        {
          "output_type": "execute_result",
          "data": {
            "text/plain": [
              "array([[ 6,  8],\n",
              "       [ 8, 10],\n",
              "       [10, 12]])"
            ]
          },
          "metadata": {},
          "execution_count": 119
        }
      ]
    },
    {
      "cell_type": "code",
      "metadata": {
        "colab": {
          "base_uri": "https://localhost:8080/"
        },
        "id": "F50Y53EXUBtX",
        "outputId": "aef615d5-61f7-4723-daf7-6167e72cf132"
      },
      "source": [
        "# trasposición de una matriz\n",
        "m1.T"
      ],
      "execution_count": null,
      "outputs": [
        {
          "output_type": "execute_result",
          "data": {
            "text/plain": [
              "array([[1, 3, 5],\n",
              "       [2, 4, 6]])"
            ]
          },
          "metadata": {},
          "execution_count": 120
        }
      ]
    },
    {
      "cell_type": "code",
      "source": [
        "# inversa de una matriz\n",
        "mm = np.array([1,2,3,4,5,7,6,8,9]).reshape((3,3))\n",
        "print(mm)\n",
        "mm_inv = np.linalg.inv(mm)\n",
        "print(mm_inv)"
      ],
      "metadata": {
        "colab": {
          "base_uri": "https://localhost:8080/"
        },
        "id": "ZKYXL66hv0Wm",
        "outputId": "288d2430-84f3-48ca-af91-3e5503e577b9"
      },
      "execution_count": null,
      "outputs": [
        {
          "output_type": "stream",
          "name": "stdout",
          "text": [
            "[[1 2 3]\n",
            " [4 5 7]\n",
            " [6 8 9]]\n",
            "[[-1.57142857  0.85714286 -0.14285714]\n",
            " [ 0.85714286 -1.28571429  0.71428571]\n",
            " [ 0.28571429  0.57142857 -0.42857143]]\n"
          ]
        }
      ]
    },
    {
      "cell_type": "code",
      "source": [
        "# qué pasa si multiplicamos las dos matrices?\n",
        "mm * mm_inv"
      ],
      "metadata": {
        "colab": {
          "base_uri": "https://localhost:8080/"
        },
        "id": "IVbI8xMyxuNQ",
        "outputId": "5de8c1f8-3e3c-4811-c58e-4b2ad8305d7a"
      },
      "execution_count": null,
      "outputs": [
        {
          "output_type": "execute_result",
          "data": {
            "text/plain": [
              "array([[-1.57142857,  1.71428571, -0.42857143],\n",
              "       [ 3.42857143, -6.42857143,  5.        ],\n",
              "       [ 1.71428571,  4.57142857, -3.85714286]])"
            ]
          },
          "metadata": {},
          "execution_count": 122
        }
      ]
    },
    {
      "cell_type": "code",
      "source": [
        "# lo que pasa es que ese no es el producto matricial, y ahora?\n",
        "mm @ mm_inv"
      ],
      "metadata": {
        "colab": {
          "base_uri": "https://localhost:8080/"
        },
        "id": "Rj6BB0qExxy3",
        "outputId": "bb13b906-3996-49b9-b8f6-3251147524ba"
      },
      "execution_count": null,
      "outputs": [
        {
          "output_type": "execute_result",
          "data": {
            "text/plain": [
              "array([[ 1.00000000e+00, -1.11022302e-16, -1.11022302e-16],\n",
              "       [ 0.00000000e+00,  1.00000000e+00, -1.11022302e-16],\n",
              "       [ 0.00000000e+00, -3.33066907e-16,  1.00000000e+00]])"
            ]
          },
          "metadata": {},
          "execution_count": 123
        }
      ]
    },
    {
      "cell_type": "code",
      "source": [
        "# ¿qué pasa si queremos invertir una matriz que no tiene inversa?\n",
        "xd = np.array([1,2,3,4,5,6]).reshape((2,3))\n",
        "print(xd)\n",
        "xd_inv = np.linalg.inv(xd)"
      ],
      "metadata": {
        "colab": {
          "base_uri": "https://localhost:8080/",
          "height": 435
        },
        "id": "Qd5qUxZGzfkY",
        "outputId": "680bd41c-ff4b-4517-b0ac-77da28cae6df"
      },
      "execution_count": null,
      "outputs": [
        {
          "output_type": "stream",
          "name": "stdout",
          "text": [
            "[[1 2 3]\n",
            " [4 5 6]]\n"
          ]
        },
        {
          "output_type": "error",
          "ename": "LinAlgError",
          "evalue": "ignored",
          "traceback": [
            "\u001b[0;31m---------------------------------------------------------------------------\u001b[0m",
            "\u001b[0;31mLinAlgError\u001b[0m                               Traceback (most recent call last)",
            "\u001b[0;32m<ipython-input-124-112cf625167b>\u001b[0m in \u001b[0;36m<module>\u001b[0;34m()\u001b[0m\n\u001b[1;32m      2\u001b[0m \u001b[0mxd\u001b[0m \u001b[0;34m=\u001b[0m \u001b[0mnp\u001b[0m\u001b[0;34m.\u001b[0m\u001b[0marray\u001b[0m\u001b[0;34m(\u001b[0m\u001b[0;34m[\u001b[0m\u001b[0;36m1\u001b[0m\u001b[0;34m,\u001b[0m\u001b[0;36m2\u001b[0m\u001b[0;34m,\u001b[0m\u001b[0;36m3\u001b[0m\u001b[0;34m,\u001b[0m\u001b[0;36m4\u001b[0m\u001b[0;34m,\u001b[0m\u001b[0;36m5\u001b[0m\u001b[0;34m,\u001b[0m\u001b[0;36m6\u001b[0m\u001b[0;34m]\u001b[0m\u001b[0;34m)\u001b[0m\u001b[0;34m.\u001b[0m\u001b[0mreshape\u001b[0m\u001b[0;34m(\u001b[0m\u001b[0;34m(\u001b[0m\u001b[0;36m2\u001b[0m\u001b[0;34m,\u001b[0m\u001b[0;36m3\u001b[0m\u001b[0;34m)\u001b[0m\u001b[0;34m)\u001b[0m\u001b[0;34m\u001b[0m\u001b[0;34m\u001b[0m\u001b[0m\n\u001b[1;32m      3\u001b[0m \u001b[0mprint\u001b[0m\u001b[0;34m(\u001b[0m\u001b[0mxd\u001b[0m\u001b[0;34m)\u001b[0m\u001b[0;34m\u001b[0m\u001b[0;34m\u001b[0m\u001b[0m\n\u001b[0;32m----> 4\u001b[0;31m \u001b[0mxd_inv\u001b[0m \u001b[0;34m=\u001b[0m \u001b[0mnp\u001b[0m\u001b[0;34m.\u001b[0m\u001b[0mlinalg\u001b[0m\u001b[0;34m.\u001b[0m\u001b[0minv\u001b[0m\u001b[0;34m(\u001b[0m\u001b[0mxd\u001b[0m\u001b[0;34m)\u001b[0m\u001b[0;34m\u001b[0m\u001b[0;34m\u001b[0m\u001b[0m\n\u001b[0m",
            "\u001b[0;32m<__array_function__ internals>\u001b[0m in \u001b[0;36minv\u001b[0;34m(*args, **kwargs)\u001b[0m\n",
            "\u001b[0;32m/usr/local/lib/python3.7/dist-packages/numpy/linalg/linalg.py\u001b[0m in \u001b[0;36minv\u001b[0;34m(a)\u001b[0m\n\u001b[1;32m    538\u001b[0m     \u001b[0ma\u001b[0m\u001b[0;34m,\u001b[0m \u001b[0mwrap\u001b[0m \u001b[0;34m=\u001b[0m \u001b[0m_makearray\u001b[0m\u001b[0;34m(\u001b[0m\u001b[0ma\u001b[0m\u001b[0;34m)\u001b[0m\u001b[0;34m\u001b[0m\u001b[0;34m\u001b[0m\u001b[0m\n\u001b[1;32m    539\u001b[0m     \u001b[0m_assert_stacked_2d\u001b[0m\u001b[0;34m(\u001b[0m\u001b[0ma\u001b[0m\u001b[0;34m)\u001b[0m\u001b[0;34m\u001b[0m\u001b[0;34m\u001b[0m\u001b[0m\n\u001b[0;32m--> 540\u001b[0;31m     \u001b[0m_assert_stacked_square\u001b[0m\u001b[0;34m(\u001b[0m\u001b[0ma\u001b[0m\u001b[0;34m)\u001b[0m\u001b[0;34m\u001b[0m\u001b[0;34m\u001b[0m\u001b[0m\n\u001b[0m\u001b[1;32m    541\u001b[0m     \u001b[0mt\u001b[0m\u001b[0;34m,\u001b[0m \u001b[0mresult_t\u001b[0m \u001b[0;34m=\u001b[0m \u001b[0m_commonType\u001b[0m\u001b[0;34m(\u001b[0m\u001b[0ma\u001b[0m\u001b[0;34m)\u001b[0m\u001b[0;34m\u001b[0m\u001b[0;34m\u001b[0m\u001b[0m\n\u001b[1;32m    542\u001b[0m \u001b[0;34m\u001b[0m\u001b[0m\n",
            "\u001b[0;32m/usr/local/lib/python3.7/dist-packages/numpy/linalg/linalg.py\u001b[0m in \u001b[0;36m_assert_stacked_square\u001b[0;34m(*arrays)\u001b[0m\n\u001b[1;32m    201\u001b[0m         \u001b[0mm\u001b[0m\u001b[0;34m,\u001b[0m \u001b[0mn\u001b[0m \u001b[0;34m=\u001b[0m \u001b[0ma\u001b[0m\u001b[0;34m.\u001b[0m\u001b[0mshape\u001b[0m\u001b[0;34m[\u001b[0m\u001b[0;34m-\u001b[0m\u001b[0;36m2\u001b[0m\u001b[0;34m:\u001b[0m\u001b[0;34m]\u001b[0m\u001b[0;34m\u001b[0m\u001b[0;34m\u001b[0m\u001b[0m\n\u001b[1;32m    202\u001b[0m         \u001b[0;32mif\u001b[0m \u001b[0mm\u001b[0m \u001b[0;34m!=\u001b[0m \u001b[0mn\u001b[0m\u001b[0;34m:\u001b[0m\u001b[0;34m\u001b[0m\u001b[0;34m\u001b[0m\u001b[0m\n\u001b[0;32m--> 203\u001b[0;31m             \u001b[0;32mraise\u001b[0m \u001b[0mLinAlgError\u001b[0m\u001b[0;34m(\u001b[0m\u001b[0;34m'Last 2 dimensions of the array must be square'\u001b[0m\u001b[0;34m)\u001b[0m\u001b[0;34m\u001b[0m\u001b[0;34m\u001b[0m\u001b[0m\n\u001b[0m\u001b[1;32m    204\u001b[0m \u001b[0;34m\u001b[0m\u001b[0m\n\u001b[1;32m    205\u001b[0m \u001b[0;32mdef\u001b[0m \u001b[0m_assert_finite\u001b[0m\u001b[0;34m(\u001b[0m\u001b[0;34m*\u001b[0m\u001b[0marrays\u001b[0m\u001b[0;34m)\u001b[0m\u001b[0;34m:\u001b[0m\u001b[0;34m\u001b[0m\u001b[0;34m\u001b[0m\u001b[0m\n",
            "\u001b[0;31mLinAlgError\u001b[0m: Last 2 dimensions of the array must be square"
          ]
        }
      ]
    },
    {
      "cell_type": "markdown",
      "metadata": {
        "id": "WiCPSUBwVGsS"
      },
      "source": [
        "## Indexación y vectores lógicos\n",
        "\n",
        "Llamamos indexar a acceder a elementos de un array, a partir de diversos métodos.\n",
        "\n",
        "Llamamos vector lógico es un vector compuesto por valores booleanos (*True* o *False*)."
      ]
    },
    {
      "cell_type": "markdown",
      "metadata": {
        "id": "EHiXvUbNzGf7"
      },
      "source": [
        "### Indexación simple\n",
        "\n",
        "Se accede a un valor específico de una o más dimensiones utilizando corchetes [ ] para indicar el valor del índice sobre cada una.\n",
        "\n",
        "**Recordar que el primer elemento siempre lleva índice 0, no 1**"
      ]
    },
    {
      "cell_type": "code",
      "metadata": {
        "colab": {
          "base_uri": "https://localhost:8080/"
        },
        "id": "dr0rza0iVFlr",
        "outputId": "bc889ead-c95b-4436-da0e-0e6c7c79325b"
      },
      "source": [
        "# recordemos m1\n",
        "m1"
      ],
      "execution_count": null,
      "outputs": [
        {
          "output_type": "execute_result",
          "data": {
            "text/plain": [
              "array([[1, 2],\n",
              "       [3, 4],\n",
              "       [5, 6]])"
            ]
          },
          "metadata": {},
          "execution_count": 125
        }
      ]
    },
    {
      "cell_type": "code",
      "metadata": {
        "colab": {
          "base_uri": "https://localhost:8080/"
        },
        "id": "FbjyfRMb2Nh7",
        "outputId": "cc3b8e81-baf1-4019-bd59-516e9feb4873"
      },
      "source": [
        "# accedemos al elemento de la 2º fila, 1º columna (indices 1 y 0 respectivamente)\n",
        "m1[1,0]"
      ],
      "execution_count": null,
      "outputs": [
        {
          "output_type": "execute_result",
          "data": {
            "text/plain": [
              "3"
            ]
          },
          "metadata": {},
          "execution_count": 126
        }
      ]
    },
    {
      "cell_type": "code",
      "metadata": {
        "colab": {
          "base_uri": "https://localhost:8080/"
        },
        "id": "VBJhZ1px2NXy",
        "outputId": "c4965037-6315-4784-b04b-87997cae2027"
      },
      "source": [
        "# si sólo indicamos 1 índice, recortamos el eje de las filas\n",
        "# accedemos a la 3º fila, con índice 2\n",
        "m1[2]"
      ],
      "execution_count": null,
      "outputs": [
        {
          "output_type": "execute_result",
          "data": {
            "text/plain": [
              "array([5, 6])"
            ]
          },
          "metadata": {},
          "execution_count": 127
        }
      ]
    },
    {
      "cell_type": "code",
      "metadata": {
        "colab": {
          "base_uri": "https://localhost:8080/"
        },
        "id": "yjfWJzkc2NNU",
        "outputId": "9eee48d0-48ea-4540-beb0-fee78a8aa7f3"
      },
      "source": [
        "# si queremos acceder a la 1º columna podemos omitir índice en las filas\n",
        "m1[:,0]"
      ],
      "execution_count": null,
      "outputs": [
        {
          "output_type": "execute_result",
          "data": {
            "text/plain": [
              "array([1, 3, 5])"
            ]
          },
          "metadata": {},
          "execution_count": 128
        }
      ]
    },
    {
      "cell_type": "markdown",
      "metadata": {
        "id": "I68k2Sfv26O3"
      },
      "source": [
        "### Slicing\n",
        "\n",
        "Como se vio en el ejemplo anterior, fue necesario introducir un `:` en el índice de las filas para que la sintaxis no sea inválida. En realidad, la indexación simple es un caso particular de *slicing*, esto es, indexación utilizando *rangos de valores* y se hace de la misma manera que el slicing básico de Python, esto es por ejemplo `x[1:5, 3:5]` accede a los valores de las filas 2 a 5 y columnas 4 a 5.\n",
        "\n",
        "Observar que el rango `m:n` recorre desde *m* hasta *n-1*. Por lo que si se desean los índices *x* a *y* se debe indicar el rango `x-1:y`\n",
        "\n",
        "Volviendo al ejemplo anterior, `m1[:,0]` indica que se quiere el rango completo de las filas, para columnas de índice 0, lo cual es equivalente a acceder a la primer columna."
      ]
    },
    {
      "cell_type": "code",
      "metadata": {
        "colab": {
          "base_uri": "https://localhost:8080/"
        },
        "id": "hAKFcUHz4ICG",
        "outputId": "421426da-716d-4270-de6e-7c3e92bf4074"
      },
      "source": [
        "# definimos una nueva matriz más grande\n",
        "m2 = np.arange(24).reshape(6,4)\n",
        "m2"
      ],
      "execution_count": null,
      "outputs": [
        {
          "output_type": "execute_result",
          "data": {
            "text/plain": [
              "array([[ 0,  1,  2,  3],\n",
              "       [ 4,  5,  6,  7],\n",
              "       [ 8,  9, 10, 11],\n",
              "       [12, 13, 14, 15],\n",
              "       [16, 17, 18, 19],\n",
              "       [20, 21, 22, 23]])"
            ]
          },
          "metadata": {},
          "execution_count": 129
        }
      ]
    },
    {
      "cell_type": "code",
      "metadata": {
        "colab": {
          "base_uri": "https://localhost:8080/"
        },
        "id": "JnTIpjg02NBt",
        "outputId": "c10160f2-d4f4-4379-e100-aa3cc24291d0"
      },
      "source": [
        "# accedo a las filas 1 a 3 de m2, columnas 2 a 3\n",
        "m2[0:3, 1:3] "
      ],
      "execution_count": null,
      "outputs": [
        {
          "output_type": "execute_result",
          "data": {
            "text/plain": [
              "array([[ 1,  2],\n",
              "       [ 5,  6],\n",
              "       [ 9, 10]])"
            ]
          },
          "metadata": {},
          "execution_count": 130
        }
      ]
    },
    {
      "cell_type": "markdown",
      "metadata": {
        "id": "FIeWjDVd5UV-"
      },
      "source": [
        "### Indexación por array\n",
        "\n",
        "El *slicing* es, a su vez, un caso particular de indexación por array, donde se indica con un iterable, índice a índice, cúales elementos acceder sobre un eje.\n",
        "\n",
        "Observar sin embargo que el slicing preserva las dimensiones, mientras que la indexación por array no (como es de esperarse)."
      ]
    },
    {
      "cell_type": "code",
      "metadata": {
        "colab": {
          "base_uri": "https://localhost:8080/"
        },
        "id": "ibMC1Ws42M1e",
        "outputId": "8641c49f-15a8-4042-c9f5-f474ee88204b"
      },
      "source": [
        "# accedo a las filas 1 y 3 (pero no 2) de m2, columnas 2 y 4 (pero no 3)\n",
        "m2[[0,2],[1,3]]"
      ],
      "execution_count": null,
      "outputs": [
        {
          "output_type": "execute_result",
          "data": {
            "text/plain": [
              "array([ 1, 11])"
            ]
          },
          "metadata": {},
          "execution_count": 131
        }
      ]
    },
    {
      "cell_type": "markdown",
      "metadata": {
        "id": "pgmh0bUZ6Hr8"
      },
      "source": [
        "### Indexación por vectores lógicos\n",
        "\n",
        "Otra forma de indexación por array es, en vez de un vector que indique los *índices* de los elementos a acceder, un array de la misma dimensionalidad que el original y donde se indica con *True* los valores deseados, y con *False* los no deseados.\n",
        "\n",
        "En el caso particular en que el vector lógico se construye a partir del mismo array a acceder, estamos incurriendo en un filtrado por valores, pero el mecanismo permite hacer operaciones sobre distintos arrays."
      ]
    },
    {
      "cell_type": "code",
      "metadata": {
        "colab": {
          "base_uri": "https://localhost:8080/"
        },
        "id": "Bf61HD6r6GJg",
        "outputId": "669713f3-ecfb-4586-b281-3b5511b053b2"
      },
      "source": [
        "# quiero sólo los valores impares de m2\n",
        "m2[m2 % 2 != 0]"
      ],
      "execution_count": null,
      "outputs": [
        {
          "output_type": "execute_result",
          "data": {
            "text/plain": [
              "array([ 1,  3,  5,  7,  9, 11, 13, 15, 17, 19, 21, 23])"
            ]
          },
          "metadata": {},
          "execution_count": 132
        }
      ]
    },
    {
      "cell_type": "code",
      "metadata": {
        "colab": {
          "base_uri": "https://localhost:8080/"
        },
        "id": "9hS0k2xb7CX2",
        "outputId": "6f9cfed5-b3a0-427e-954c-23e843e8d502"
      },
      "source": [
        "# observemos el vector lógico utilizado, tiene la misma forma que m2\n",
        "m2 % 2 != 0"
      ],
      "execution_count": null,
      "outputs": [
        {
          "output_type": "execute_result",
          "data": {
            "text/plain": [
              "array([[False,  True, False,  True],\n",
              "       [False,  True, False,  True],\n",
              "       [False,  True, False,  True],\n",
              "       [False,  True, False,  True],\n",
              "       [False,  True, False,  True],\n",
              "       [False,  True, False,  True]])"
            ]
          },
          "metadata": {},
          "execution_count": 133
        }
      ]
    },
    {
      "cell_type": "code",
      "metadata": {
        "colab": {
          "base_uri": "https://localhost:8080/"
        },
        "id": "5L9fN7-xwAWH",
        "outputId": "80a04cda-7f68-4bfe-ba03-3ec18666c690"
      },
      "source": [
        "# qué pasa si miro sólo una columna?\n",
        "m2[:,1] % 3 != 0"
      ],
      "execution_count": null,
      "outputs": [
        {
          "output_type": "execute_result",
          "data": {
            "text/plain": [
              "array([ True,  True, False,  True,  True, False])"
            ]
          },
          "metadata": {},
          "execution_count": 134
        }
      ]
    },
    {
      "cell_type": "code",
      "metadata": {
        "colab": {
          "base_uri": "https://localhost:8080/"
        },
        "id": "JCE13xJQv7cq",
        "outputId": "2455735c-d36c-4cba-d730-d856b161a6e2"
      },
      "source": [
        "# eso lo puedo utilizar para (vía broadcasting) filtrar la matriz vía valores de esa columna!\n",
        "m2[m2[:,1] % 3 != 0]"
      ],
      "execution_count": null,
      "outputs": [
        {
          "output_type": "execute_result",
          "data": {
            "text/plain": [
              "array([[ 0,  1,  2,  3],\n",
              "       [ 4,  5,  6,  7],\n",
              "       [12, 13, 14, 15],\n",
              "       [16, 17, 18, 19]])"
            ]
          },
          "metadata": {},
          "execution_count": 135
        }
      ]
    },
    {
      "cell_type": "markdown",
      "source": [
        "# Jugando a encriptar\n",
        "\n",
        "Vamos a utilizar un mecanismo de cifrado *inspirado* en el [cifrado Hill](https://es.wikipedia.org/wiki/Cifrado_Hill). En este caso, vamos a utilizar un $n=4$, es decir que nuestra matriz (inversible) de cifrado $K$ va a ser de $\\mathbb{R}^{4 \\times 4}$.\n",
        "\n",
        "## Cifrado \n",
        "\n",
        "El procedimiento es el siguiente:\n",
        "\n",
        "1. A nuestro mensaje de $m$ letras le agregamos caracteres de *padding* (relleno) hasta que el largo del mensaje $m'$ es múltiplo de $n$.\n",
        "2. Utilizando una codificación del alfabeto a números (por ejemplo, $A \\rightarrow 1$), convertimos nuestro mensaje paddeado de $m'$ letras a un vector de $\\mathbb{R}^{m'}$\n",
        "3. Seccionamos el vector en *slices* de $n$ elementos, obteniendo el mensaje como una matriz $M \\in \\mathbb{R}^{n \\times \\frac{m'}{n}}$.\n",
        "4. Obtenemos el mensaje cifrado como $E = K \\cdot M$\n",
        "\n",
        "**Para pensar 1: ¿Dónde vive E?**\n",
        "\n",
        "**Para pensar 2: ¿Por qué es necesario el paso 2?**\n",
        "\n",
        "## Descifrado\n",
        "\n",
        "Vamos a suponer que ya disponemos de la inversa $K^{-1}$. Veamos que el procedimiento para descifrar es exactamente inverso al de cifrado:\n",
        "\n",
        "1. Obtenemos el mensaje descifrado $M_2 = K^{-1} \\cdot E$\n",
        "2. Aplanamos la matriz $M_2 \\in \\mathbb{R}^{n \\times \\frac{m'}{n}}$ para obtener un vector de $\\mathbb{R}^{m'}$\n",
        "3. Decodificamos el vector para obtener el mensaje paddeado de largo $m'$.\n",
        "4. Quitamos todos los caracteres de padding que encontremos al final del mensaje.\n",
        "\n",
        "\n",
        "**Para pensar 3: ¿Por qué estamos tan seguros que $M_2 = M$?**"
      ],
      "metadata": {
        "id": "BLT09_2T6MHX"
      }
    },
    {
      "cell_type": "code",
      "source": [
        "# esto no importa\n",
        "def print2(*args):\n",
        "  print(*args, end='\\n\\n')"
      ],
      "metadata": {
        "id": "YmxgKCrtHQrR"
      },
      "execution_count": null,
      "outputs": []
    },
    {
      "cell_type": "code",
      "source": [
        "# construimos el encoder y decoder del alfabeto\n",
        "from string import ascii_lowercase\n",
        "\n",
        "PADDING_CHAR = '.'\n",
        "alfabeto = ascii_lowercase+' '+ PADDING_CHAR # las letras + espacio + caracter de padding \".\"\n",
        "\n",
        "# enumerate itera sobre un iterable pero ademas nos da el indice\n",
        "# es decir, (0,a)->(1,b)-> ... ->(27, .)\n",
        "encoder = {letter: idx for idx, letter in enumerate(alfabeto)}\n",
        "print(encoder)\n",
        "\n",
        "# forma fácil y rápida de invertir un diccionario, ya que items() nos da los pares (clave,valor)\n",
        "decoder = {v:k for k,v in encoder.items()}"
      ],
      "metadata": {
        "colab": {
          "base_uri": "https://localhost:8080/"
        },
        "id": "8BJkWIKY_5iw",
        "outputId": "b44ca268-bb6e-4831-ba56-98e1d8de49bd"
      },
      "execution_count": null,
      "outputs": [
        {
          "output_type": "stream",
          "name": "stdout",
          "text": [
            "{'a': 0, 'b': 1, 'c': 2, 'd': 3, 'e': 4, 'f': 5, 'g': 6, 'h': 7, 'i': 8, 'j': 9, 'k': 10, 'l': 11, 'm': 12, 'n': 13, 'o': 14, 'p': 15, 'q': 16, 'r': 17, 's': 18, 't': 19, 'u': 20, 'v': 21, 'w': 22, 'x': 23, 'y': 24, 'z': 25, ' ': 26, '.': 27}\n"
          ]
        }
      ]
    },
    {
      "cell_type": "code",
      "source": [
        "# construimos las funciones para acomodar largos\n",
        "def add_padding(message, padd_char, n):\n",
        "  \"\"\"\n",
        "  Add padd_char characters to the message until len(message) is a multiple of n.\n",
        "  n must be an integer greater than 1 and len(padd_char) must be exactly 1.\n",
        "  \"\"\"\n",
        "  # si el largo del mensaje ya es multiplo de n, devolver el mensaje tal cual\n",
        "  if len(message) % n == 0:\n",
        "    return message\n",
        "  # si no, le sobran len(message) % n caracteres (y por tanto le faltan n - eso para completar)\n",
        "  how_many_padds = n - len(message) % n \n",
        "\n",
        "  # recordar que la multiplicacion en Python para strings es la concatenacion\n",
        "  # por ej. 3 * 'A' = 'AAA'\n",
        "  return message + how_many_padds * padd_char\n",
        "\n",
        "def remove_padding(message, padd_char):\n",
        "  return message.rstrip(padd_char)"
      ],
      "metadata": {
        "id": "N8sepJ54CJzr"
      },
      "execution_count": null,
      "outputs": []
    },
    {
      "cell_type": "code",
      "source": [
        "# definimos el mensaje y la clave K\n",
        "import numpy.linalg as npl\n",
        "\n",
        "mensaje = \"alo vero como andas\"\n",
        "\n",
        "K = np.array([\n",
        "              [1,2,3,4],\n",
        "              [5,4,4,6],\n",
        "              [2,1,1,3],\n",
        "              [1,2,1,1]\n",
        "])\n",
        "\n",
        "N = 4\n",
        "\n",
        "# chequeamos que sea inversible\n",
        "npl.det(K)"
      ],
      "metadata": {
        "colab": {
          "base_uri": "https://localhost:8080/"
        },
        "id": "P7HRW7WF_gNo",
        "outputId": "e7003e0f-3e5d-4306-9b7e-e96865aa62cd"
      },
      "execution_count": null,
      "outputs": [
        {
          "output_type": "execute_result",
          "data": {
            "text/plain": [
              "-14.999999999999993"
            ]
          },
          "metadata": {},
          "execution_count": 139
        }
      ]
    },
    {
      "cell_type": "code",
      "source": [
        "# Obtenemos la matriz M\n",
        "print2(f\"Mensaje original (largo = {len(mensaje)}): {mensaje}\")\n",
        "\n",
        "mensaje_con_padding = add_padding(mensaje, PADDING_CHAR, N)\n",
        "\n",
        "print2(f\"Mensaje con padding (largo = {len(mensaje_con_padding)}): {mensaje_con_padding}\")\n",
        "\n",
        "mensaje_encodeado = [encoder[letra] for letra in mensaje_con_padding]\n",
        "\n",
        "print2(f\"Mensaje encodeado: {mensaje_encodeado}\")\n",
        "\n",
        "# pasamos el mensaje a matriz de n filas\n",
        "\n",
        "M = np.array(mensaje_encodeado, dtype=int).reshape(N, len(mensaje_encodeado)//N)\n",
        "\n",
        "print(\"Mensaje como matriz M:\")\n",
        "print2(M)"
      ],
      "metadata": {
        "colab": {
          "base_uri": "https://localhost:8080/"
        },
        "id": "Z8czWbaiElYV",
        "outputId": "81ba4ea6-bfc2-4f6e-b60f-0693740ff545"
      },
      "execution_count": null,
      "outputs": [
        {
          "output_type": "stream",
          "name": "stdout",
          "text": [
            "Mensaje original (largo = 19): alo vero como andas\n",
            "\n",
            "Mensaje con padding (largo = 20): alo vero como andas.\n",
            "\n",
            "Mensaje encodeado: [0, 11, 14, 26, 21, 4, 17, 14, 26, 2, 14, 12, 14, 26, 0, 13, 3, 0, 18, 27]\n",
            "\n",
            "Mensaje como matriz M:\n",
            "[[ 0 11 14 26 21]\n",
            " [ 4 17 14 26  2]\n",
            " [14 12 14 26  0]\n",
            " [13  3  0 18 27]]\n",
            "\n"
          ]
        }
      ]
    },
    {
      "cell_type": "code",
      "source": [
        "# Encriptamos utilizando la matriz\n",
        "E = K @ M\n",
        "\n",
        "print(\"Mensaje encriptado E:\")\n",
        "print(E)"
      ],
      "metadata": {
        "colab": {
          "base_uri": "https://localhost:8080/"
        },
        "id": "Ym7CljBVEQCo",
        "outputId": "6d140022-e140-4cb0-8948-0452e3ab98de"
      },
      "execution_count": null,
      "outputs": [
        {
          "output_type": "stream",
          "name": "stdout",
          "text": [
            "Mensaje encriptado E:\n",
            "[[102  93  84 228 133]\n",
            " [150 189 182 446 275]\n",
            " [ 57  60  56 158 125]\n",
            " [ 35  60  56 122  52]]\n"
          ]
        }
      ]
    },
    {
      "cell_type": "code",
      "source": [
        "# Para desencriptar necesitamos la inversa de K\n",
        "\n",
        "K_inv = npl.inv(K)\n",
        "print(K_inv)"
      ],
      "metadata": {
        "colab": {
          "base_uri": "https://localhost:8080/"
        },
        "id": "Qg-3rKB_Hg_b",
        "outputId": "1a9f4141-2be0-409e-fc29-818ed20d86e9"
      },
      "execution_count": null,
      "outputs": [
        {
          "output_type": "stream",
          "name": "stdout",
          "text": [
            "[[-0.4         0.46666667 -0.26666667 -0.4       ]\n",
            " [ 0.         -0.33333333  0.33333333  1.        ]\n",
            " [ 0.2         0.6        -1.2        -0.8       ]\n",
            " [ 0.2        -0.4         0.8         0.2       ]]\n"
          ]
        }
      ]
    },
    {
      "cell_type": "code",
      "source": [
        "# Desencriptamos\n",
        "\n",
        "# multiplicamos por la inversa de K, comparar M2 contra M\n",
        "M2_ = K_inv @ E\n",
        "\n",
        "print(\"M desencriptada:\")\n",
        "print2(M2_)\n",
        "\n",
        "# EPA! hay problemas de redondeo culpa de la computadora... pero nada muy grave, redondeamos\n",
        "M2 = np.rint(M2_).astype(int)\n",
        "\n",
        "print(\"Ahora sí, M desencriptada\")\n",
        "print2(M2)\n",
        "\n",
        "# no nos confiemos, M2 y M son iguales?\n",
        "assert np.all(M2 == M)\n",
        "\n",
        "# perfecto! ahora aplanamos\n",
        "mensaje_aplanado = M2.flatten()\n",
        "\n",
        "print2(f\"M2 aplanada: {mensaje_aplanado}\")\n",
        "\n",
        "# desconvertimos\n",
        "mensaje_desencodeado = \"\".join([decoder[num] for num in mensaje_aplanado])\n",
        "\n",
        "print2(f\"Mensaje recuperado con padding (largo = {len(mensaje_con_padding)}): {mensaje_con_padding}\")\n",
        "\n",
        "# quitamos padding\n",
        "mensaje_sin_padding = remove_padding(mensaje_desencodeado, PADDING_CHAR)\n",
        "\n",
        "print2(f\"Mensaje recuperado (largo = {len(mensaje_sin_padding)}): {mensaje_sin_padding}\")"
      ],
      "metadata": {
        "colab": {
          "base_uri": "https://localhost:8080/"
        },
        "id": "WPJ9UruZHs3w",
        "outputId": "01cb1c4c-ef51-46ad-c9f4-8d1d938b9918"
      },
      "execution_count": null,
      "outputs": [
        {
          "output_type": "stream",
          "name": "stdout",
          "text": [
            "M desencriptada:\n",
            "[[-8.38218384e-15  1.10000000e+01  1.40000000e+01  2.60000000e+01\n",
            "   2.10000000e+01]\n",
            " [ 4.00000000e+00  1.70000000e+01  1.40000000e+01  2.60000000e+01\n",
            "   2.00000000e+00]\n",
            " [ 1.40000000e+01  1.20000000e+01  1.40000000e+01  2.60000000e+01\n",
            "  -1.24344979e-14]\n",
            " [ 1.30000000e+01  3.00000000e+00  1.99840144e-15  1.80000000e+01\n",
            "   2.70000000e+01]]\n",
            "\n",
            "Ahora sí, M desencriptada\n",
            "[[ 0 11 14 26 21]\n",
            " [ 4 17 14 26  2]\n",
            " [14 12 14 26  0]\n",
            " [13  3  0 18 27]]\n",
            "\n",
            "M2 aplanada: [ 0 11 14 26 21  4 17 14 26  2 14 12 14 26  0 13  3  0 18 27]\n",
            "\n",
            "Mensaje recuperado con padding (largo = 20): alo vero como andas.\n",
            "\n",
            "Mensaje recuperado (largo = 19): alo vero como andas\n",
            "\n"
          ]
        }
      ]
    },
    {
      "cell_type": "markdown",
      "source": [
        "### ¿Qué pasa si se intenta utilizar una clave incorrecta?\n"
      ],
      "metadata": {
        "id": "Q4yAASHzy1tW"
      }
    },
    {
      "cell_type": "code",
      "source": [
        "K_mala = K + 1\n",
        "print(\"Clave incorrecta: \")\n",
        "print2(K_mala)\n",
        "\n",
        "# intentamos descifrar utilizando esa clave\n",
        "remove_padding(\"\".join([decoder[i] for i in np.rint(inv(K_mala) @ E).astype(int).flatten()]), PADDING_CHAR)"
      ],
      "metadata": {
        "colab": {
          "base_uri": "https://localhost:8080/",
          "height": 411
        },
        "id": "MVU1pXuUy7di",
        "outputId": "3f0fb6da-7d79-4b7e-ff19-a0f2edac4e49"
      },
      "execution_count": null,
      "outputs": [
        {
          "output_type": "stream",
          "name": "stdout",
          "text": [
            "Clave incorrecta: \n",
            "[[2 3 4 5]\n",
            " [6 5 5 7]\n",
            " [3 2 2 4]\n",
            " [2 3 2 2]]\n",
            "\n"
          ]
        },
        {
          "output_type": "error",
          "ename": "KeyError",
          "evalue": "ignored",
          "traceback": [
            "\u001b[0;31m---------------------------------------------------------------------------\u001b[0m",
            "\u001b[0;31mKeyError\u001b[0m                                  Traceback (most recent call last)",
            "\u001b[0;32m<ipython-input-153-8991a6dde328>\u001b[0m in \u001b[0;36m<module>\u001b[0;34m()\u001b[0m\n\u001b[1;32m      4\u001b[0m \u001b[0;34m\u001b[0m\u001b[0m\n\u001b[1;32m      5\u001b[0m \u001b[0;31m# intentamos descifrar utilizando esa clave\u001b[0m\u001b[0;34m\u001b[0m\u001b[0;34m\u001b[0m\u001b[0;34m\u001b[0m\u001b[0m\n\u001b[0;32m----> 6\u001b[0;31m \u001b[0mremove_padding\u001b[0m\u001b[0;34m(\u001b[0m\u001b[0;34m\"\"\u001b[0m\u001b[0;34m.\u001b[0m\u001b[0mjoin\u001b[0m\u001b[0;34m(\u001b[0m\u001b[0;34m[\u001b[0m\u001b[0mdecoder\u001b[0m\u001b[0;34m[\u001b[0m\u001b[0mi\u001b[0m\u001b[0;34m]\u001b[0m \u001b[0;32mfor\u001b[0m \u001b[0mi\u001b[0m \u001b[0;32min\u001b[0m \u001b[0mnp\u001b[0m\u001b[0;34m.\u001b[0m\u001b[0mrint\u001b[0m\u001b[0;34m(\u001b[0m\u001b[0minv\u001b[0m\u001b[0;34m(\u001b[0m\u001b[0mK_mala\u001b[0m\u001b[0;34m)\u001b[0m \u001b[0;34m@\u001b[0m \u001b[0mE\u001b[0m\u001b[0;34m)\u001b[0m\u001b[0;34m.\u001b[0m\u001b[0mastype\u001b[0m\u001b[0;34m(\u001b[0m\u001b[0mint\u001b[0m\u001b[0;34m)\u001b[0m\u001b[0;34m.\u001b[0m\u001b[0mflatten\u001b[0m\u001b[0;34m(\u001b[0m\u001b[0;34m)\u001b[0m\u001b[0;34m]\u001b[0m\u001b[0;34m)\u001b[0m\u001b[0;34m,\u001b[0m \u001b[0mPADDING_CHAR\u001b[0m\u001b[0;34m)\u001b[0m\u001b[0;34m\u001b[0m\u001b[0;34m\u001b[0m\u001b[0m\n\u001b[0m",
            "\u001b[0;32m<ipython-input-153-8991a6dde328>\u001b[0m in \u001b[0;36m<listcomp>\u001b[0;34m(.0)\u001b[0m\n\u001b[1;32m      4\u001b[0m \u001b[0;34m\u001b[0m\u001b[0m\n\u001b[1;32m      5\u001b[0m \u001b[0;31m# intentamos descifrar utilizando esa clave\u001b[0m\u001b[0;34m\u001b[0m\u001b[0;34m\u001b[0m\u001b[0;34m\u001b[0m\u001b[0m\n\u001b[0;32m----> 6\u001b[0;31m \u001b[0mremove_padding\u001b[0m\u001b[0;34m(\u001b[0m\u001b[0;34m\"\"\u001b[0m\u001b[0;34m.\u001b[0m\u001b[0mjoin\u001b[0m\u001b[0;34m(\u001b[0m\u001b[0;34m[\u001b[0m\u001b[0mdecoder\u001b[0m\u001b[0;34m[\u001b[0m\u001b[0mi\u001b[0m\u001b[0;34m]\u001b[0m \u001b[0;32mfor\u001b[0m \u001b[0mi\u001b[0m \u001b[0;32min\u001b[0m \u001b[0mnp\u001b[0m\u001b[0;34m.\u001b[0m\u001b[0mrint\u001b[0m\u001b[0;34m(\u001b[0m\u001b[0minv\u001b[0m\u001b[0;34m(\u001b[0m\u001b[0mK_mala\u001b[0m\u001b[0;34m)\u001b[0m \u001b[0;34m@\u001b[0m \u001b[0mE\u001b[0m\u001b[0;34m)\u001b[0m\u001b[0;34m.\u001b[0m\u001b[0mastype\u001b[0m\u001b[0;34m(\u001b[0m\u001b[0mint\u001b[0m\u001b[0;34m)\u001b[0m\u001b[0;34m.\u001b[0m\u001b[0mflatten\u001b[0m\u001b[0;34m(\u001b[0m\u001b[0;34m)\u001b[0m\u001b[0;34m]\u001b[0m\u001b[0;34m)\u001b[0m\u001b[0;34m,\u001b[0m \u001b[0mPADDING_CHAR\u001b[0m\u001b[0;34m)\u001b[0m\u001b[0;34m\u001b[0m\u001b[0;34m\u001b[0m\u001b[0m\n\u001b[0m",
            "\u001b[0;31mKeyError\u001b[0m: 37"
          ]
        }
      ]
    },
    {
      "cell_type": "markdown",
      "source": [
        "¡Ni siquiera da un string válido! E incluso si devolviera uno, no va a dar nada parecido al original."
      ],
      "metadata": {
        "id": "7QmKdQrH0rHt"
      }
    },
    {
      "cell_type": "markdown",
      "source": [
        "## Para jugar en casa: versión OOP\n",
        "\n",
        "Es (casi) exactamente lo mismo que antes pero utilizando clases y métodos.\n",
        "\n",
        "No les vamos a decir cómo funciona, solamente les vamos a dar una ayuda: se puede registrar en dos modos: \n",
        "1. Pasar una key al inicio y utilizar siempre esa *(ó...)*\n",
        "2. Utilizar una clave aparte para cada operación de cifrado+descifrado.\n",
        "\n",
        "¡A descifrar (el código)!"
      ],
      "metadata": {
        "id": "zU7rq5_ZME00"
      }
    },
    {
      "cell_type": "code",
      "source": [
        "import numpy as np\n",
        "from numpy.linalg import inv, det\n",
        "\n",
        "class MatrixCipher(object):\n",
        "  def __init__(self, alphabet, padding_char, key=None):\n",
        "    \"\"\"\n",
        "    Params:\n",
        "    alphabet (str): a string with all the characters allowed in a message (they must all be different).\n",
        "    padding_char (str): the character to be used for padding. Must not be included in alphabet.\n",
        "    key (n x n matrix, optional): an invertible matrix to be used as key. \n",
        "    \n",
        "    If key is passed, key arguments in cipher and decipher will be ignored.\n",
        "    \"\"\"\n",
        "    assert len(alphabet) == len(set(alphabet)), \"Alphabet has non-unique characters\"\n",
        "    assert padding_char not in alphabet, \"Padding char is included in the alphabet\"\n",
        "    if key is not None:\n",
        "      assert len(key.shape) == 2, \"Key is not a matrix\"\n",
        "      assert key.shape[0] == key.shape[1], \"Key is not a square matrix\"\n",
        "      assert det(key) != 0, \"Key is not invertible\"\n",
        "\n",
        "    self.encoder = {letter: idx for idx, letter in enumerate(alphabet + padding_char)}\n",
        "    self.decoder = {v:k for k,v in self.encoder.items()}\n",
        "    self.padding = padding_char\n",
        "    self.key = key\n",
        "\n",
        "  def _try_get_key(self, key):\n",
        "    key = key if self.key is None else self.key\n",
        "    assert key is not None, \"Key was neither initialized nor passed\"\n",
        "    return key\n",
        "\n",
        "  def _matrixify(self, message, n):\n",
        "    if len(message) % n != 0:\n",
        "      message += self.padding * (n - len(message) % n)\n",
        "    \n",
        "    encoded_msg = [self.encoder[x] for x in message]\n",
        "\n",
        "    return np.array(encoded_msg).reshape(n, len(encoded_msg)//n)\n",
        "\n",
        "  def cipher(self, message, key=None):\n",
        "    K = self._try_get_key(key)\n",
        "\n",
        "    n = K.shape[0]\n",
        "\n",
        "    M = self._matrixify(message, n)\n",
        "\n",
        "    return K @ M\n",
        "  \n",
        "  def _dematrixify(self, matrix):\n",
        "    decoded_vector = [self.decoder[x] for x in np.rint(matrix.flatten())]\n",
        "    return \"\".join(decoded_vector).rstrip(self.padding)\n",
        "\n",
        "  def decipher(self, ciphered_message, key=None):\n",
        "    K = self._try_get_key(key)\n",
        "\n",
        "    K_inv = inv(K)\n",
        "\n",
        "    M = K_inv @ ciphered_message\n",
        "\n",
        "    return self._dematrixify(M)"
      ],
      "metadata": {
        "id": "LHVIsQ0LISBQ"
      },
      "execution_count": null,
      "outputs": []
    },
    {
      "cell_type": "code",
      "source": [
        "# el ejemplo de antes tiene su equivalente en este cipher\n",
        "mi_cipher = MatrixCipher(alphabet=ascii_lowercase+\" \",padding_char=PADDING_CHAR, key=K)"
      ],
      "metadata": {
        "id": "upsmPYhwTRwL"
      },
      "execution_count": null,
      "outputs": []
    }
  ]
}