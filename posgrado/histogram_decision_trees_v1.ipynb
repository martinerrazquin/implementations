{
  "nbformat": 4,
  "nbformat_minor": 0,
  "metadata": {
    "colab": {
      "provenance": []
    },
    "kernelspec": {
      "name": "python3",
      "display_name": "Python 3"
    },
    "language_info": {
      "name": "python"
    },
    "widgets": {
      "application/vnd.jupyter.widget-state+json": {
        "5336f76c1fef4f07a55e7ac94e5e1bce": {
          "model_module": "@jupyter-widgets/controls",
          "model_name": "HBoxModel",
          "model_module_version": "1.5.0",
          "state": {
            "_dom_classes": [],
            "_model_module": "@jupyter-widgets/controls",
            "_model_module_version": "1.5.0",
            "_model_name": "HBoxModel",
            "_view_count": null,
            "_view_module": "@jupyter-widgets/controls",
            "_view_module_version": "1.5.0",
            "_view_name": "HBoxView",
            "box_style": "",
            "children": [
              "IPY_MODEL_c1b65eaee8a6487ca867e29f857ada4a",
              "IPY_MODEL_bc1b7c966fc3457f88894af90a1dc0c0",
              "IPY_MODEL_2460fcdaa14942fe99a542507173d880"
            ],
            "layout": "IPY_MODEL_25641c159d9441878e3e0776adc0866f"
          }
        },
        "c1b65eaee8a6487ca867e29f857ada4a": {
          "model_module": "@jupyter-widgets/controls",
          "model_name": "HTMLModel",
          "model_module_version": "1.5.0",
          "state": {
            "_dom_classes": [],
            "_model_module": "@jupyter-widgets/controls",
            "_model_module_version": "1.5.0",
            "_model_name": "HTMLModel",
            "_view_count": null,
            "_view_module": "@jupyter-widgets/controls",
            "_view_module_version": "1.5.0",
            "_view_name": "HTMLView",
            "description": "",
            "description_tooltip": null,
            "layout": "IPY_MODEL_f7d8ec3d107948f2ba0ed1ef92df630a",
            "placeholder": "​",
            "style": "IPY_MODEL_49064419426b4e209ec550c5f2407163",
            "value": "100%"
          }
        },
        "bc1b7c966fc3457f88894af90a1dc0c0": {
          "model_module": "@jupyter-widgets/controls",
          "model_name": "FloatProgressModel",
          "model_module_version": "1.5.0",
          "state": {
            "_dom_classes": [],
            "_model_module": "@jupyter-widgets/controls",
            "_model_module_version": "1.5.0",
            "_model_name": "FloatProgressModel",
            "_view_count": null,
            "_view_module": "@jupyter-widgets/controls",
            "_view_module_version": "1.5.0",
            "_view_name": "ProgressView",
            "bar_style": "success",
            "description": "",
            "description_tooltip": null,
            "layout": "IPY_MODEL_14353fc787ce406090929799bd893b4c",
            "max": 50,
            "min": 0,
            "orientation": "horizontal",
            "style": "IPY_MODEL_d065416da4ef443383bc45dff6f23b2f",
            "value": 50
          }
        },
        "2460fcdaa14942fe99a542507173d880": {
          "model_module": "@jupyter-widgets/controls",
          "model_name": "HTMLModel",
          "model_module_version": "1.5.0",
          "state": {
            "_dom_classes": [],
            "_model_module": "@jupyter-widgets/controls",
            "_model_module_version": "1.5.0",
            "_model_name": "HTMLModel",
            "_view_count": null,
            "_view_module": "@jupyter-widgets/controls",
            "_view_module_version": "1.5.0",
            "_view_name": "HTMLView",
            "description": "",
            "description_tooltip": null,
            "layout": "IPY_MODEL_c22fa214b748409199eaeecb30a9dfac",
            "placeholder": "​",
            "style": "IPY_MODEL_49863d88de44499380b25421800d6fdd",
            "value": " 50/50 [25:41&lt;00:00, 32.48s/it]"
          }
        },
        "25641c159d9441878e3e0776adc0866f": {
          "model_module": "@jupyter-widgets/base",
          "model_name": "LayoutModel",
          "model_module_version": "1.2.0",
          "state": {
            "_model_module": "@jupyter-widgets/base",
            "_model_module_version": "1.2.0",
            "_model_name": "LayoutModel",
            "_view_count": null,
            "_view_module": "@jupyter-widgets/base",
            "_view_module_version": "1.2.0",
            "_view_name": "LayoutView",
            "align_content": null,
            "align_items": null,
            "align_self": null,
            "border": null,
            "bottom": null,
            "display": null,
            "flex": null,
            "flex_flow": null,
            "grid_area": null,
            "grid_auto_columns": null,
            "grid_auto_flow": null,
            "grid_auto_rows": null,
            "grid_column": null,
            "grid_gap": null,
            "grid_row": null,
            "grid_template_areas": null,
            "grid_template_columns": null,
            "grid_template_rows": null,
            "height": null,
            "justify_content": null,
            "justify_items": null,
            "left": null,
            "margin": null,
            "max_height": null,
            "max_width": null,
            "min_height": null,
            "min_width": null,
            "object_fit": null,
            "object_position": null,
            "order": null,
            "overflow": null,
            "overflow_x": null,
            "overflow_y": null,
            "padding": null,
            "right": null,
            "top": null,
            "visibility": null,
            "width": null
          }
        },
        "f7d8ec3d107948f2ba0ed1ef92df630a": {
          "model_module": "@jupyter-widgets/base",
          "model_name": "LayoutModel",
          "model_module_version": "1.2.0",
          "state": {
            "_model_module": "@jupyter-widgets/base",
            "_model_module_version": "1.2.0",
            "_model_name": "LayoutModel",
            "_view_count": null,
            "_view_module": "@jupyter-widgets/base",
            "_view_module_version": "1.2.0",
            "_view_name": "LayoutView",
            "align_content": null,
            "align_items": null,
            "align_self": null,
            "border": null,
            "bottom": null,
            "display": null,
            "flex": null,
            "flex_flow": null,
            "grid_area": null,
            "grid_auto_columns": null,
            "grid_auto_flow": null,
            "grid_auto_rows": null,
            "grid_column": null,
            "grid_gap": null,
            "grid_row": null,
            "grid_template_areas": null,
            "grid_template_columns": null,
            "grid_template_rows": null,
            "height": null,
            "justify_content": null,
            "justify_items": null,
            "left": null,
            "margin": null,
            "max_height": null,
            "max_width": null,
            "min_height": null,
            "min_width": null,
            "object_fit": null,
            "object_position": null,
            "order": null,
            "overflow": null,
            "overflow_x": null,
            "overflow_y": null,
            "padding": null,
            "right": null,
            "top": null,
            "visibility": null,
            "width": null
          }
        },
        "49064419426b4e209ec550c5f2407163": {
          "model_module": "@jupyter-widgets/controls",
          "model_name": "DescriptionStyleModel",
          "model_module_version": "1.5.0",
          "state": {
            "_model_module": "@jupyter-widgets/controls",
            "_model_module_version": "1.5.0",
            "_model_name": "DescriptionStyleModel",
            "_view_count": null,
            "_view_module": "@jupyter-widgets/base",
            "_view_module_version": "1.2.0",
            "_view_name": "StyleView",
            "description_width": ""
          }
        },
        "14353fc787ce406090929799bd893b4c": {
          "model_module": "@jupyter-widgets/base",
          "model_name": "LayoutModel",
          "model_module_version": "1.2.0",
          "state": {
            "_model_module": "@jupyter-widgets/base",
            "_model_module_version": "1.2.0",
            "_model_name": "LayoutModel",
            "_view_count": null,
            "_view_module": "@jupyter-widgets/base",
            "_view_module_version": "1.2.0",
            "_view_name": "LayoutView",
            "align_content": null,
            "align_items": null,
            "align_self": null,
            "border": null,
            "bottom": null,
            "display": null,
            "flex": null,
            "flex_flow": null,
            "grid_area": null,
            "grid_auto_columns": null,
            "grid_auto_flow": null,
            "grid_auto_rows": null,
            "grid_column": null,
            "grid_gap": null,
            "grid_row": null,
            "grid_template_areas": null,
            "grid_template_columns": null,
            "grid_template_rows": null,
            "height": null,
            "justify_content": null,
            "justify_items": null,
            "left": null,
            "margin": null,
            "max_height": null,
            "max_width": null,
            "min_height": null,
            "min_width": null,
            "object_fit": null,
            "object_position": null,
            "order": null,
            "overflow": null,
            "overflow_x": null,
            "overflow_y": null,
            "padding": null,
            "right": null,
            "top": null,
            "visibility": null,
            "width": null
          }
        },
        "d065416da4ef443383bc45dff6f23b2f": {
          "model_module": "@jupyter-widgets/controls",
          "model_name": "ProgressStyleModel",
          "model_module_version": "1.5.0",
          "state": {
            "_model_module": "@jupyter-widgets/controls",
            "_model_module_version": "1.5.0",
            "_model_name": "ProgressStyleModel",
            "_view_count": null,
            "_view_module": "@jupyter-widgets/base",
            "_view_module_version": "1.2.0",
            "_view_name": "StyleView",
            "bar_color": null,
            "description_width": ""
          }
        },
        "c22fa214b748409199eaeecb30a9dfac": {
          "model_module": "@jupyter-widgets/base",
          "model_name": "LayoutModel",
          "model_module_version": "1.2.0",
          "state": {
            "_model_module": "@jupyter-widgets/base",
            "_model_module_version": "1.2.0",
            "_model_name": "LayoutModel",
            "_view_count": null,
            "_view_module": "@jupyter-widgets/base",
            "_view_module_version": "1.2.0",
            "_view_name": "LayoutView",
            "align_content": null,
            "align_items": null,
            "align_self": null,
            "border": null,
            "bottom": null,
            "display": null,
            "flex": null,
            "flex_flow": null,
            "grid_area": null,
            "grid_auto_columns": null,
            "grid_auto_flow": null,
            "grid_auto_rows": null,
            "grid_column": null,
            "grid_gap": null,
            "grid_row": null,
            "grid_template_areas": null,
            "grid_template_columns": null,
            "grid_template_rows": null,
            "height": null,
            "justify_content": null,
            "justify_items": null,
            "left": null,
            "margin": null,
            "max_height": null,
            "max_width": null,
            "min_height": null,
            "min_width": null,
            "object_fit": null,
            "object_position": null,
            "order": null,
            "overflow": null,
            "overflow_x": null,
            "overflow_y": null,
            "padding": null,
            "right": null,
            "top": null,
            "visibility": null,
            "width": null
          }
        },
        "49863d88de44499380b25421800d6fdd": {
          "model_module": "@jupyter-widgets/controls",
          "model_name": "DescriptionStyleModel",
          "model_module_version": "1.5.0",
          "state": {
            "_model_module": "@jupyter-widgets/controls",
            "_model_module_version": "1.5.0",
            "_model_name": "DescriptionStyleModel",
            "_view_count": null,
            "_view_module": "@jupyter-widgets/base",
            "_view_module_version": "1.2.0",
            "_view_name": "StyleView",
            "description_width": ""
          }
        },
        "07feca8b00d74dbe9c6ea28e5215c8ac": {
          "model_module": "@jupyter-widgets/controls",
          "model_name": "HBoxModel",
          "model_module_version": "1.5.0",
          "state": {
            "_dom_classes": [],
            "_model_module": "@jupyter-widgets/controls",
            "_model_module_version": "1.5.0",
            "_model_name": "HBoxModel",
            "_view_count": null,
            "_view_module": "@jupyter-widgets/controls",
            "_view_module_version": "1.5.0",
            "_view_name": "HBoxView",
            "box_style": "",
            "children": [
              "IPY_MODEL_3cf0d45c760444e6b965df913608c705",
              "IPY_MODEL_03f47bcebe55420ab46c096873bd2326",
              "IPY_MODEL_7fdfd004a21b4d338cc46872c8b29434"
            ],
            "layout": "IPY_MODEL_a53001052c96439d8df46125591bd3b4"
          }
        },
        "3cf0d45c760444e6b965df913608c705": {
          "model_module": "@jupyter-widgets/controls",
          "model_name": "HTMLModel",
          "model_module_version": "1.5.0",
          "state": {
            "_dom_classes": [],
            "_model_module": "@jupyter-widgets/controls",
            "_model_module_version": "1.5.0",
            "_model_name": "HTMLModel",
            "_view_count": null,
            "_view_module": "@jupyter-widgets/controls",
            "_view_module_version": "1.5.0",
            "_view_name": "HTMLView",
            "description": "",
            "description_tooltip": null,
            "layout": "IPY_MODEL_6f3a8edacd5e4e7a9da8bfb39d9e5799",
            "placeholder": "​",
            "style": "IPY_MODEL_aff4013df78943b4838e807667cdccf0",
            "value": "100%"
          }
        },
        "03f47bcebe55420ab46c096873bd2326": {
          "model_module": "@jupyter-widgets/controls",
          "model_name": "FloatProgressModel",
          "model_module_version": "1.5.0",
          "state": {
            "_dom_classes": [],
            "_model_module": "@jupyter-widgets/controls",
            "_model_module_version": "1.5.0",
            "_model_name": "FloatProgressModel",
            "_view_count": null,
            "_view_module": "@jupyter-widgets/controls",
            "_view_module_version": "1.5.0",
            "_view_name": "ProgressView",
            "bar_style": "success",
            "description": "",
            "description_tooltip": null,
            "layout": "IPY_MODEL_1942c8889c2d43e7b9cb7cc02e6df444",
            "max": 50,
            "min": 0,
            "orientation": "horizontal",
            "style": "IPY_MODEL_ace4263a8c524e558b328052b9abc6ea",
            "value": 50
          }
        },
        "7fdfd004a21b4d338cc46872c8b29434": {
          "model_module": "@jupyter-widgets/controls",
          "model_name": "HTMLModel",
          "model_module_version": "1.5.0",
          "state": {
            "_dom_classes": [],
            "_model_module": "@jupyter-widgets/controls",
            "_model_module_version": "1.5.0",
            "_model_name": "HTMLModel",
            "_view_count": null,
            "_view_module": "@jupyter-widgets/controls",
            "_view_module_version": "1.5.0",
            "_view_name": "HTMLView",
            "description": "",
            "description_tooltip": null,
            "layout": "IPY_MODEL_0cdf4b6452544381bdc352821774dfaa",
            "placeholder": "​",
            "style": "IPY_MODEL_49e1c5583293428389d709bb26629741",
            "value": " 50/50 [25:53&lt;00:00, 30.32s/it]"
          }
        },
        "a53001052c96439d8df46125591bd3b4": {
          "model_module": "@jupyter-widgets/base",
          "model_name": "LayoutModel",
          "model_module_version": "1.2.0",
          "state": {
            "_model_module": "@jupyter-widgets/base",
            "_model_module_version": "1.2.0",
            "_model_name": "LayoutModel",
            "_view_count": null,
            "_view_module": "@jupyter-widgets/base",
            "_view_module_version": "1.2.0",
            "_view_name": "LayoutView",
            "align_content": null,
            "align_items": null,
            "align_self": null,
            "border": null,
            "bottom": null,
            "display": null,
            "flex": null,
            "flex_flow": null,
            "grid_area": null,
            "grid_auto_columns": null,
            "grid_auto_flow": null,
            "grid_auto_rows": null,
            "grid_column": null,
            "grid_gap": null,
            "grid_row": null,
            "grid_template_areas": null,
            "grid_template_columns": null,
            "grid_template_rows": null,
            "height": null,
            "justify_content": null,
            "justify_items": null,
            "left": null,
            "margin": null,
            "max_height": null,
            "max_width": null,
            "min_height": null,
            "min_width": null,
            "object_fit": null,
            "object_position": null,
            "order": null,
            "overflow": null,
            "overflow_x": null,
            "overflow_y": null,
            "padding": null,
            "right": null,
            "top": null,
            "visibility": null,
            "width": null
          }
        },
        "6f3a8edacd5e4e7a9da8bfb39d9e5799": {
          "model_module": "@jupyter-widgets/base",
          "model_name": "LayoutModel",
          "model_module_version": "1.2.0",
          "state": {
            "_model_module": "@jupyter-widgets/base",
            "_model_module_version": "1.2.0",
            "_model_name": "LayoutModel",
            "_view_count": null,
            "_view_module": "@jupyter-widgets/base",
            "_view_module_version": "1.2.0",
            "_view_name": "LayoutView",
            "align_content": null,
            "align_items": null,
            "align_self": null,
            "border": null,
            "bottom": null,
            "display": null,
            "flex": null,
            "flex_flow": null,
            "grid_area": null,
            "grid_auto_columns": null,
            "grid_auto_flow": null,
            "grid_auto_rows": null,
            "grid_column": null,
            "grid_gap": null,
            "grid_row": null,
            "grid_template_areas": null,
            "grid_template_columns": null,
            "grid_template_rows": null,
            "height": null,
            "justify_content": null,
            "justify_items": null,
            "left": null,
            "margin": null,
            "max_height": null,
            "max_width": null,
            "min_height": null,
            "min_width": null,
            "object_fit": null,
            "object_position": null,
            "order": null,
            "overflow": null,
            "overflow_x": null,
            "overflow_y": null,
            "padding": null,
            "right": null,
            "top": null,
            "visibility": null,
            "width": null
          }
        },
        "aff4013df78943b4838e807667cdccf0": {
          "model_module": "@jupyter-widgets/controls",
          "model_name": "DescriptionStyleModel",
          "model_module_version": "1.5.0",
          "state": {
            "_model_module": "@jupyter-widgets/controls",
            "_model_module_version": "1.5.0",
            "_model_name": "DescriptionStyleModel",
            "_view_count": null,
            "_view_module": "@jupyter-widgets/base",
            "_view_module_version": "1.2.0",
            "_view_name": "StyleView",
            "description_width": ""
          }
        },
        "1942c8889c2d43e7b9cb7cc02e6df444": {
          "model_module": "@jupyter-widgets/base",
          "model_name": "LayoutModel",
          "model_module_version": "1.2.0",
          "state": {
            "_model_module": "@jupyter-widgets/base",
            "_model_module_version": "1.2.0",
            "_model_name": "LayoutModel",
            "_view_count": null,
            "_view_module": "@jupyter-widgets/base",
            "_view_module_version": "1.2.0",
            "_view_name": "LayoutView",
            "align_content": null,
            "align_items": null,
            "align_self": null,
            "border": null,
            "bottom": null,
            "display": null,
            "flex": null,
            "flex_flow": null,
            "grid_area": null,
            "grid_auto_columns": null,
            "grid_auto_flow": null,
            "grid_auto_rows": null,
            "grid_column": null,
            "grid_gap": null,
            "grid_row": null,
            "grid_template_areas": null,
            "grid_template_columns": null,
            "grid_template_rows": null,
            "height": null,
            "justify_content": null,
            "justify_items": null,
            "left": null,
            "margin": null,
            "max_height": null,
            "max_width": null,
            "min_height": null,
            "min_width": null,
            "object_fit": null,
            "object_position": null,
            "order": null,
            "overflow": null,
            "overflow_x": null,
            "overflow_y": null,
            "padding": null,
            "right": null,
            "top": null,
            "visibility": null,
            "width": null
          }
        },
        "ace4263a8c524e558b328052b9abc6ea": {
          "model_module": "@jupyter-widgets/controls",
          "model_name": "ProgressStyleModel",
          "model_module_version": "1.5.0",
          "state": {
            "_model_module": "@jupyter-widgets/controls",
            "_model_module_version": "1.5.0",
            "_model_name": "ProgressStyleModel",
            "_view_count": null,
            "_view_module": "@jupyter-widgets/base",
            "_view_module_version": "1.2.0",
            "_view_name": "StyleView",
            "bar_color": null,
            "description_width": ""
          }
        },
        "0cdf4b6452544381bdc352821774dfaa": {
          "model_module": "@jupyter-widgets/base",
          "model_name": "LayoutModel",
          "model_module_version": "1.2.0",
          "state": {
            "_model_module": "@jupyter-widgets/base",
            "_model_module_version": "1.2.0",
            "_model_name": "LayoutModel",
            "_view_count": null,
            "_view_module": "@jupyter-widgets/base",
            "_view_module_version": "1.2.0",
            "_view_name": "LayoutView",
            "align_content": null,
            "align_items": null,
            "align_self": null,
            "border": null,
            "bottom": null,
            "display": null,
            "flex": null,
            "flex_flow": null,
            "grid_area": null,
            "grid_auto_columns": null,
            "grid_auto_flow": null,
            "grid_auto_rows": null,
            "grid_column": null,
            "grid_gap": null,
            "grid_row": null,
            "grid_template_areas": null,
            "grid_template_columns": null,
            "grid_template_rows": null,
            "height": null,
            "justify_content": null,
            "justify_items": null,
            "left": null,
            "margin": null,
            "max_height": null,
            "max_width": null,
            "min_height": null,
            "min_width": null,
            "object_fit": null,
            "object_position": null,
            "order": null,
            "overflow": null,
            "overflow_x": null,
            "overflow_y": null,
            "padding": null,
            "right": null,
            "top": null,
            "visibility": null,
            "width": null
          }
        },
        "49e1c5583293428389d709bb26629741": {
          "model_module": "@jupyter-widgets/controls",
          "model_name": "DescriptionStyleModel",
          "model_module_version": "1.5.0",
          "state": {
            "_model_module": "@jupyter-widgets/controls",
            "_model_module_version": "1.5.0",
            "_model_name": "DescriptionStyleModel",
            "_view_count": null,
            "_view_module": "@jupyter-widgets/base",
            "_view_module_version": "1.2.0",
            "_view_name": "StyleView",
            "description_width": ""
          }
        },
        "bf74518fbc7d4b8aa2ec0a6d8956e2ee": {
          "model_module": "@jupyter-widgets/controls",
          "model_name": "HBoxModel",
          "model_module_version": "1.5.0",
          "state": {
            "_dom_classes": [],
            "_model_module": "@jupyter-widgets/controls",
            "_model_module_version": "1.5.0",
            "_model_name": "HBoxModel",
            "_view_count": null,
            "_view_module": "@jupyter-widgets/controls",
            "_view_module_version": "1.5.0",
            "_view_name": "HBoxView",
            "box_style": "",
            "children": [
              "IPY_MODEL_de766b8856ca4bb29620285ab8101b8e",
              "IPY_MODEL_a4fc3bab57d7441a83bafc7132b66c29",
              "IPY_MODEL_c2a914e94c844dc7a6a87f0fe66d3676"
            ],
            "layout": "IPY_MODEL_8c8901c487de4a3eaf30e4fff934dd9e"
          }
        },
        "de766b8856ca4bb29620285ab8101b8e": {
          "model_module": "@jupyter-widgets/controls",
          "model_name": "HTMLModel",
          "model_module_version": "1.5.0",
          "state": {
            "_dom_classes": [],
            "_model_module": "@jupyter-widgets/controls",
            "_model_module_version": "1.5.0",
            "_model_name": "HTMLModel",
            "_view_count": null,
            "_view_module": "@jupyter-widgets/controls",
            "_view_module_version": "1.5.0",
            "_view_name": "HTMLView",
            "description": "",
            "description_tooltip": null,
            "layout": "IPY_MODEL_783e35135c05454291fa20f27df0777a",
            "placeholder": "​",
            "style": "IPY_MODEL_c977076c7cfb43d08ecb561495b745b0",
            "value": "100%"
          }
        },
        "a4fc3bab57d7441a83bafc7132b66c29": {
          "model_module": "@jupyter-widgets/controls",
          "model_name": "FloatProgressModel",
          "model_module_version": "1.5.0",
          "state": {
            "_dom_classes": [],
            "_model_module": "@jupyter-widgets/controls",
            "_model_module_version": "1.5.0",
            "_model_name": "FloatProgressModel",
            "_view_count": null,
            "_view_module": "@jupyter-widgets/controls",
            "_view_module_version": "1.5.0",
            "_view_name": "ProgressView",
            "bar_style": "success",
            "description": "",
            "description_tooltip": null,
            "layout": "IPY_MODEL_365baafbb7694ac9a05b7473ff2abb3f",
            "max": 50,
            "min": 0,
            "orientation": "horizontal",
            "style": "IPY_MODEL_5edf4f6e7fc34241813839a6fe468513",
            "value": 50
          }
        },
        "c2a914e94c844dc7a6a87f0fe66d3676": {
          "model_module": "@jupyter-widgets/controls",
          "model_name": "HTMLModel",
          "model_module_version": "1.5.0",
          "state": {
            "_dom_classes": [],
            "_model_module": "@jupyter-widgets/controls",
            "_model_module_version": "1.5.0",
            "_model_name": "HTMLModel",
            "_view_count": null,
            "_view_module": "@jupyter-widgets/controls",
            "_view_module_version": "1.5.0",
            "_view_name": "HTMLView",
            "description": "",
            "description_tooltip": null,
            "layout": "IPY_MODEL_41fb7b8cb654473a803956a5c3b77528",
            "placeholder": "​",
            "style": "IPY_MODEL_fb4a0e23b2124550a10cfa998af9e5a6",
            "value": " 50/50 [06:31&lt;00:00,  7.72s/it]"
          }
        },
        "8c8901c487de4a3eaf30e4fff934dd9e": {
          "model_module": "@jupyter-widgets/base",
          "model_name": "LayoutModel",
          "model_module_version": "1.2.0",
          "state": {
            "_model_module": "@jupyter-widgets/base",
            "_model_module_version": "1.2.0",
            "_model_name": "LayoutModel",
            "_view_count": null,
            "_view_module": "@jupyter-widgets/base",
            "_view_module_version": "1.2.0",
            "_view_name": "LayoutView",
            "align_content": null,
            "align_items": null,
            "align_self": null,
            "border": null,
            "bottom": null,
            "display": null,
            "flex": null,
            "flex_flow": null,
            "grid_area": null,
            "grid_auto_columns": null,
            "grid_auto_flow": null,
            "grid_auto_rows": null,
            "grid_column": null,
            "grid_gap": null,
            "grid_row": null,
            "grid_template_areas": null,
            "grid_template_columns": null,
            "grid_template_rows": null,
            "height": null,
            "justify_content": null,
            "justify_items": null,
            "left": null,
            "margin": null,
            "max_height": null,
            "max_width": null,
            "min_height": null,
            "min_width": null,
            "object_fit": null,
            "object_position": null,
            "order": null,
            "overflow": null,
            "overflow_x": null,
            "overflow_y": null,
            "padding": null,
            "right": null,
            "top": null,
            "visibility": null,
            "width": null
          }
        },
        "783e35135c05454291fa20f27df0777a": {
          "model_module": "@jupyter-widgets/base",
          "model_name": "LayoutModel",
          "model_module_version": "1.2.0",
          "state": {
            "_model_module": "@jupyter-widgets/base",
            "_model_module_version": "1.2.0",
            "_model_name": "LayoutModel",
            "_view_count": null,
            "_view_module": "@jupyter-widgets/base",
            "_view_module_version": "1.2.0",
            "_view_name": "LayoutView",
            "align_content": null,
            "align_items": null,
            "align_self": null,
            "border": null,
            "bottom": null,
            "display": null,
            "flex": null,
            "flex_flow": null,
            "grid_area": null,
            "grid_auto_columns": null,
            "grid_auto_flow": null,
            "grid_auto_rows": null,
            "grid_column": null,
            "grid_gap": null,
            "grid_row": null,
            "grid_template_areas": null,
            "grid_template_columns": null,
            "grid_template_rows": null,
            "height": null,
            "justify_content": null,
            "justify_items": null,
            "left": null,
            "margin": null,
            "max_height": null,
            "max_width": null,
            "min_height": null,
            "min_width": null,
            "object_fit": null,
            "object_position": null,
            "order": null,
            "overflow": null,
            "overflow_x": null,
            "overflow_y": null,
            "padding": null,
            "right": null,
            "top": null,
            "visibility": null,
            "width": null
          }
        },
        "c977076c7cfb43d08ecb561495b745b0": {
          "model_module": "@jupyter-widgets/controls",
          "model_name": "DescriptionStyleModel",
          "model_module_version": "1.5.0",
          "state": {
            "_model_module": "@jupyter-widgets/controls",
            "_model_module_version": "1.5.0",
            "_model_name": "DescriptionStyleModel",
            "_view_count": null,
            "_view_module": "@jupyter-widgets/base",
            "_view_module_version": "1.2.0",
            "_view_name": "StyleView",
            "description_width": ""
          }
        },
        "365baafbb7694ac9a05b7473ff2abb3f": {
          "model_module": "@jupyter-widgets/base",
          "model_name": "LayoutModel",
          "model_module_version": "1.2.0",
          "state": {
            "_model_module": "@jupyter-widgets/base",
            "_model_module_version": "1.2.0",
            "_model_name": "LayoutModel",
            "_view_count": null,
            "_view_module": "@jupyter-widgets/base",
            "_view_module_version": "1.2.0",
            "_view_name": "LayoutView",
            "align_content": null,
            "align_items": null,
            "align_self": null,
            "border": null,
            "bottom": null,
            "display": null,
            "flex": null,
            "flex_flow": null,
            "grid_area": null,
            "grid_auto_columns": null,
            "grid_auto_flow": null,
            "grid_auto_rows": null,
            "grid_column": null,
            "grid_gap": null,
            "grid_row": null,
            "grid_template_areas": null,
            "grid_template_columns": null,
            "grid_template_rows": null,
            "height": null,
            "justify_content": null,
            "justify_items": null,
            "left": null,
            "margin": null,
            "max_height": null,
            "max_width": null,
            "min_height": null,
            "min_width": null,
            "object_fit": null,
            "object_position": null,
            "order": null,
            "overflow": null,
            "overflow_x": null,
            "overflow_y": null,
            "padding": null,
            "right": null,
            "top": null,
            "visibility": null,
            "width": null
          }
        },
        "5edf4f6e7fc34241813839a6fe468513": {
          "model_module": "@jupyter-widgets/controls",
          "model_name": "ProgressStyleModel",
          "model_module_version": "1.5.0",
          "state": {
            "_model_module": "@jupyter-widgets/controls",
            "_model_module_version": "1.5.0",
            "_model_name": "ProgressStyleModel",
            "_view_count": null,
            "_view_module": "@jupyter-widgets/base",
            "_view_module_version": "1.2.0",
            "_view_name": "StyleView",
            "bar_color": null,
            "description_width": ""
          }
        },
        "41fb7b8cb654473a803956a5c3b77528": {
          "model_module": "@jupyter-widgets/base",
          "model_name": "LayoutModel",
          "model_module_version": "1.2.0",
          "state": {
            "_model_module": "@jupyter-widgets/base",
            "_model_module_version": "1.2.0",
            "_model_name": "LayoutModel",
            "_view_count": null,
            "_view_module": "@jupyter-widgets/base",
            "_view_module_version": "1.2.0",
            "_view_name": "LayoutView",
            "align_content": null,
            "align_items": null,
            "align_self": null,
            "border": null,
            "bottom": null,
            "display": null,
            "flex": null,
            "flex_flow": null,
            "grid_area": null,
            "grid_auto_columns": null,
            "grid_auto_flow": null,
            "grid_auto_rows": null,
            "grid_column": null,
            "grid_gap": null,
            "grid_row": null,
            "grid_template_areas": null,
            "grid_template_columns": null,
            "grid_template_rows": null,
            "height": null,
            "justify_content": null,
            "justify_items": null,
            "left": null,
            "margin": null,
            "max_height": null,
            "max_width": null,
            "min_height": null,
            "min_width": null,
            "object_fit": null,
            "object_position": null,
            "order": null,
            "overflow": null,
            "overflow_x": null,
            "overflow_y": null,
            "padding": null,
            "right": null,
            "top": null,
            "visibility": null,
            "width": null
          }
        },
        "fb4a0e23b2124550a10cfa998af9e5a6": {
          "model_module": "@jupyter-widgets/controls",
          "model_name": "DescriptionStyleModel",
          "model_module_version": "1.5.0",
          "state": {
            "_model_module": "@jupyter-widgets/controls",
            "_model_module_version": "1.5.0",
            "_model_name": "DescriptionStyleModel",
            "_view_count": null,
            "_view_module": "@jupyter-widgets/base",
            "_view_module_version": "1.2.0",
            "_view_name": "StyleView",
            "description_width": ""
          }
        }
      }
    }
  },
  "cells": [
    {
      "cell_type": "markdown",
      "source": [
        "# Árboles de decisión basados en histogramas\n",
        "\n",
        "**Nota importante:** estos árboles no están pensados para ser utilizados para predicción, tampoco están realmente optimizados. Su propósito simplemente es el de ilustrar la diferencia en tiempo de entrenamiento cuando se usan histogramas y cuantización vs cuando no."
      ],
      "metadata": {
        "id": "186YGz18bHjj"
      }
    },
    {
      "cell_type": "markdown",
      "source": [
        "## Imports"
      ],
      "metadata": {
        "id": "Qz9pxclljloH"
      }
    },
    {
      "cell_type": "code",
      "execution_count": 99,
      "metadata": {
        "id": "0Nkv2zpdbB_k"
      },
      "outputs": [],
      "source": [
        "import numpy as np\n",
        "import pandas as pd\n",
        "import matplotlib.pyplot as plt\n",
        "import time\n",
        "import seaborn as sns\n",
        "\n",
        "from sklearn.datasets import fetch_california_housing,fetch_openml\n",
        "from tqdm.notebook import tqdm\n",
        "\n",
        "sns.set_theme()"
      ]
    },
    {
      "cell_type": "markdown",
      "source": [
        "## Modelo común"
      ],
      "metadata": {
        "id": "M6ivbSF1jmtA"
      }
    },
    {
      "cell_type": "markdown",
      "source": [
        "### Búsqueda de threshold para una feature\n",
        "\n",
        "Mini optimización:\n",
        "\n",
        "$$\n",
        "\\sum_{i=0}^n (y_i - \\bar{y})^2 = \\sum_{i=0}^n y_i^2 - n \\bar{y}^2 = \\sum_{i=0}^n y_i^2 - \\frac{1}{n}(\\sum_{i=0}^n y_i)^2\n",
        "$$\n",
        "\n",
        "Entonces, cuando se agrega una nueva observación se puede computar la nueva pérdida en $\\mathcal{O}(1)$."
      ],
      "metadata": {
        "id": "MLTXVBz2vEDo"
      }
    },
    {
      "cell_type": "code",
      "source": [
        "def get_min_threshold_classic(feat_values, target_values, debug=False):\n",
        "    # init min\n",
        "    min_idx = None\n",
        "    min_loss = np.inf\n",
        "\n",
        "    # sort\n",
        "    sorted_idxs = np.argsort(feat_values)\n",
        "    sorted_feat = feat_values[sorted_idxs]\n",
        "    sorted_targets = target_values[sorted_idxs]\n",
        "\n",
        "    # init counters\n",
        "    n = len(feat_values)\n",
        "    sum_left = 0\n",
        "    sum_right = sum(target_values)\n",
        "    sqr_left = 0\n",
        "    sqr_right = sum(np.square(target_values))\n",
        "\n",
        "    # search for the min in lin time\n",
        "    # notar que n_left = idx\n",
        "    for n_left, tgt in enumerate(sorted_targets):\n",
        "        # calculate loss\n",
        "        n_right = n - n_left\n",
        "\n",
        "        # skip NA\n",
        "        if n_right * n_left == 0:\n",
        "            loss = np.inf\n",
        "        else:\n",
        "            left_loss = sqr_left - np.square(sum_left) / n_left\n",
        "            right_loss = sqr_right - np.square(sum_right) / n_right\n",
        "\n",
        "            loss = n_left/n * left_loss + n_right/n * right_loss\n",
        "\n",
        "        # if required, update min values\n",
        "        if loss < min_loss:\n",
        "            min_idx = n_left\n",
        "            min_loss = loss\n",
        "\n",
        "        # debug\n",
        "        if debug:\n",
        "            print(f'{n_left: <3}: {loss: >3.3f}\\t{\"<-- new min\" if min_loss == loss else \"\"}')\n",
        "\n",
        "        # add this sample to left group\n",
        "        sum_left += tgt\n",
        "        sum_right -= tgt\n",
        "\n",
        "        sqr_left += tgt**2\n",
        "        sqr_right -= tgt**2\n",
        "\n",
        "    # return min loss, threshold\n",
        "    return min_loss, sorted_feat[min_idx]\n",
        "\n",
        "# show usage\n",
        "sample_feats = np.linspace(-1.5,2,20)\n",
        "sample_tgts = -2*sample_feats**2+3*sample_feats**3+5*np.cos(4*sample_feats)\n",
        "\n",
        "_, x = get_min_threshold_classic(sample_feats, sample_tgts, True)\n",
        "\n",
        "plt.scatter(sample_feats, sample_tgts)\n",
        "plt.vlines(x,min(sample_tgts),max(sample_tgts), color='red')\n",
        "plt.show()"
      ],
      "metadata": {
        "colab": {
          "base_uri": "https://localhost:8080/",
          "height": 787
        },
        "id": "VPoWHbXijn5y",
        "outputId": "39eb18ba-2473-4d5c-bb77-05a693fa2cec"
      },
      "execution_count": 4,
      "outputs": [
        {
          "output_type": "stream",
          "name": "stdout",
          "text": [
            "0  : inf\t<-- new min\n",
            "1  : 988.848\t<-- new min\n",
            "2  : 864.118\t<-- new min\n",
            "3  : 736.792\t<-- new min\n",
            "4  : 600.742\t<-- new min\n",
            "5  : 479.463\t<-- new min\n",
            "6  : 401.749\t<-- new min\n",
            "7  : 374.538\t<-- new min\n",
            "8  : 383.076\t\n",
            "9  : 405.779\t\n",
            "10 : 420.887\t\n",
            "11 : 411.452\t\n",
            "12 : 375.198\t\n",
            "13 : 325.062\t<-- new min\n",
            "14 : 279.732\t<-- new min\n",
            "15 : 263.035\t<-- new min\n",
            "16 : 307.065\t\n",
            "17 : 434.779\t\n",
            "18 : 636.040\t\n",
            "19 : 878.999\t\n"
          ]
        },
        {
          "output_type": "display_data",
          "data": {
            "text/plain": [
              "<Figure size 640x480 with 1 Axes>"
            ],
            "image/png": "[encoded data removed]"
          },
          "metadata": {}
        }
      ]
    },
    {
      "cell_type": "markdown",
      "source": [
        "### Árbol\n",
        "\n",
        "Los árboles necesitan, en general, un criterio de corte. Algunos pueden ser:\n",
        "\n",
        "* Mínima mejora de loss\n",
        "* Máxima cantidad de hojas en total\n",
        "* Mínimo error por nodo\n",
        "* Máxima profundidad (cantidad de niveles)\n",
        "\n",
        "Dado que sólo nos interesa mostrar la velocidad, vamos a hacer una simplificación y vamos a establecer un máximo de $k$ niveles."
      ],
      "metadata": {
        "id": "ZhFtb85_7bTF"
      }
    },
    {
      "cell_type": "code",
      "source": [
        "LEAF_VALUE = -1\n",
        "\n",
        "class DecisionTree:\n",
        "\n",
        "    def __init__(self, max_depth):\n",
        "        self.max_depth = max_depth\n",
        "\n",
        "    def _build_one(self, X, y, idxs):\n",
        "        if len(idxs) < len(y):\n",
        "            X = X[idxs,:]\n",
        "            y = y[idxs]\n",
        "        min_loss = np.inf\n",
        "        min_feat = None\n",
        "        min_thresh = None\n",
        "        for feature in range(X.shape[1]):\n",
        "            loss, thresh = get_min_threshold_classic(X[:,feature],y)\n",
        "            if loss < min_loss:\n",
        "                min_loss = loss\n",
        "                min_feat = feature\n",
        "                min_thresh = thresh\n",
        "\n",
        "        mask = X[:,min_feat].flatten() < min_thresh\n",
        "        idxs_left = idxs[mask]\n",
        "        idxs_right = idxs[~mask]\n",
        "\n",
        "        return min_feat, min_thresh, idxs_left, idxs_right\n",
        "\n",
        "    def fit(self, X, y):\n",
        "\n",
        "        # init structure\n",
        "        n_nodes = 2**self.max_depth - 1\n",
        "        self.thresh_values = np.empty(n_nodes, dtype=float)\n",
        "        self.thresh_features = np.full(n_nodes, LEAF_VALUE, dtype=int)\n",
        "        self.preds = np.empty(n_nodes, dtype=float)\n",
        "\n",
        "        # aux data to prevent copies\n",
        "        idxs = [None]*n_nodes\n",
        "        idxs[0] = np.arange(len(y))\n",
        "\n",
        "        # for each node, build it\n",
        "        # exploit left_child = 2*parent+1, right_child=2*parent+2\n",
        "        for node_idx in range(len(self.thresh_values)):\n",
        "\n",
        "            curr_idxs = idxs[node_idx]\n",
        "            # save pred for all nodes\n",
        "            self.preds[node_idx] = y[curr_idxs].mean()\n",
        "\n",
        "            # if it's a leaf, no point in building split\n",
        "            left_child_idx = 2*node_idx+1\n",
        "            if left_child_idx >= n_nodes:\n",
        "                continue\n",
        "\n",
        "            # do it in 2 steps for readability\n",
        "            results = self._build_one(X,y,curr_idxs)\n",
        "\n",
        "            self.thresh_features[node_idx] = results[0]\n",
        "            self.thresh_values[node_idx] = results[1]\n",
        "            idxs[left_child_idx] = results[2]\n",
        "            idxs[left_child_idx+1] = results[3]\n",
        "\n",
        "        del idxs\n",
        "\n",
        "    def predict(self, x):\n",
        "        idx = 0\n",
        "        while self.thresh_features[idx] != LEAF_VALUE:\n",
        "            is_right = x[self.thresh_features[idx]] >= self.thresh_values[idx]\n",
        "            idx = 2*idx+1+is_right\n",
        "        return self.preds[idx]"
      ],
      "metadata": {
        "id": "ItFaBR1YyoAQ"
      },
      "execution_count": 5,
      "outputs": []
    },
    {
      "cell_type": "markdown",
      "source": [
        "## Modelo con histogramas\n",
        "\n",
        "**Nota:** vamos a hardcodear un máximo de 256 bins."
      ],
      "metadata": {
        "id": "XIEsEHxgIVfk"
      }
    },
    {
      "cell_type": "markdown",
      "source": [
        "### Búsqueda de threshold para una feature\n",
        "\n",
        "Al igual que en la versión clásica, para cada bin del histograma se necesita: la suma elevada al cuadrado, la suma \"lineal\" y la cantidad de elementos. Si bien el count debería ser de tipo `uint` y los otros de `float` lo vamos a compilar en una sola matriz de dimensión $ n_{bins} \\times 3$ donde las columnas corresponden a `count`, `lin` y `square` en orden."
      ],
      "metadata": {
        "id": "U8bojbISIXRb"
      }
    },
    {
      "cell_type": "code",
      "source": [
        "def get_min_threshold_hist(hist, debug=False):\n",
        "    # init\n",
        "    min_loss = np.inf\n",
        "    min_idx = None\n",
        "\n",
        "    # init counters\n",
        "    right = hist.sum(axis=0)\n",
        "\n",
        "    # here idx != n_left because each idx holds multiple values\n",
        "    n = right[0]\n",
        "    left = np.zeros(3, dtype=float)\n",
        "\n",
        "    for idx, row in enumerate(hist):\n",
        "        # skip NA\n",
        "        if left[0] * right[0] == 0:\n",
        "            loss = np.inf\n",
        "        else:\n",
        "            # loss for this split\n",
        "            # remember split = (count, sum, square)\n",
        "            left_loss = left[2] - np.square(left[1]) / left[0]\n",
        "            right_loss = right[2] - np.square(right[1]) / right[0]\n",
        "\n",
        "            loss = left[0]/n * left_loss + right[0]/n * right_loss\n",
        "\n",
        "        # if required, update min values\n",
        "        if loss < min_loss:\n",
        "            min_idx = idx\n",
        "            min_loss = loss\n",
        "\n",
        "        # debug\n",
        "        if debug:\n",
        "            # again, we need idx, not n_left (before they were the same)\n",
        "            print(f'{idx: <3}: {loss: >3.3f}\\t{\"<-- new min\" if min_loss == loss else \"\"}')\n",
        "\n",
        "        # move current row to left split\n",
        "        left += row\n",
        "        right -= row\n",
        "\n",
        "    # return min loss, threshold\n",
        "    return min_loss, min_idx"
      ],
      "metadata": {
        "id": "5uA9vgsd7BGH"
      },
      "execution_count": 6,
      "outputs": []
    },
    {
      "cell_type": "code",
      "source": [
        "# show usage\n",
        "# build histograms using previous data, since they're all unique and < 256 it's just argsorting\n",
        "sample_feats_ordered = np.argsort(sample_feats)\n",
        "sample_sums = sample_tgts[sample_feats_ordered]\n",
        "sample_counts = np.ones_like(sample_sums)\n",
        "sample_squares = sample_sums**2 # only 1 item per bucket -> sum == element\n",
        "\n",
        "sample_hist = np.column_stack((sample_counts, sample_sums, sample_squares))\n",
        "\n",
        "_, x2 = get_min_threshold_hist(sample_hist, debug=True)\n",
        "\n",
        "plt.scatter(sample_feats_ordered, sample_sums)\n",
        "plt.vlines(x2,min(sample_sums),max(sample_sums), color='red')\n",
        "plt.show()"
      ],
      "metadata": {
        "colab": {
          "base_uri": "https://localhost:8080/",
          "height": 787
        },
        "id": "f9WtG-qo8-73",
        "outputId": "9a361d15-ba79-4eef-ec3f-58095eccc141"
      },
      "execution_count": 7,
      "outputs": [
        {
          "output_type": "stream",
          "name": "stdout",
          "text": [
            "0  : inf\t<-- new min\n",
            "1  : 988.848\t<-- new min\n",
            "2  : 864.118\t<-- new min\n",
            "3  : 736.792\t<-- new min\n",
            "4  : 600.742\t<-- new min\n",
            "5  : 479.463\t<-- new min\n",
            "6  : 401.749\t<-- new min\n",
            "7  : 374.538\t<-- new min\n",
            "8  : 383.076\t\n",
            "9  : 405.779\t\n",
            "10 : 420.887\t\n",
            "11 : 411.452\t\n",
            "12 : 375.198\t\n",
            "13 : 325.062\t<-- new min\n",
            "14 : 279.732\t<-- new min\n",
            "15 : 263.035\t<-- new min\n",
            "16 : 307.065\t\n",
            "17 : 434.779\t\n",
            "18 : 636.040\t\n",
            "19 : 878.999\t\n"
          ]
        },
        {
          "output_type": "display_data",
          "data": {
            "text/plain": [
              "<Figure size 640x480 with 1 Axes>"
            ],
            "image/png": "[encoded data removed]"
          },
          "metadata": {}
        }
      ]
    },
    {
      "cell_type": "markdown",
      "source": [
        "### Árbol"
      ],
      "metadata": {
        "id": "2L2u8itvMn2J"
      }
    },
    {
      "cell_type": "code",
      "source": [
        "asd = np.array([12,3,5,1])\n",
        "len(asd[asd < 0])"
      ],
      "metadata": {
        "colab": {
          "base_uri": "https://localhost:8080/"
        },
        "id": "8Q2BlKHnYylb",
        "outputId": "399eb8e2-519f-4151-99c1-ab854a52d6d0"
      },
      "execution_count": 8,
      "outputs": [
        {
          "output_type": "execute_result",
          "data": {
            "text/plain": [
              "0"
            ]
          },
          "metadata": {},
          "execution_count": 8
        }
      ]
    },
    {
      "cell_type": "code",
      "source": [
        "def build_hist_by_col(X, y, n_values):\n",
        "    # build hist by iterating through values of each column\n",
        "    hists = [np.zeros((bins, 3),dtype=float) for bins in n_values]\n",
        "\n",
        "    # for each feature\n",
        "    for i, bins in enumerate(n_values):\n",
        "        # for each possible value for said feature\n",
        "        for value in range(bins):\n",
        "            tgts = y[X[:,i]==value]\n",
        "            hists[i][value] = [len(tgts), sum(tgts), sum(np.square(tgts))]\n",
        "\n",
        "    return hists\n",
        "\n",
        "def build_hist_by_row(X, y, n_values):\n",
        "    # build hist by iterating throug rows of X\n",
        "    hists = [np.zeros((bins, 3),dtype=float) for bins in n_values]\n",
        "\n",
        "    # for each row in X,y\n",
        "    for X_i, y_i in zip(X, y):\n",
        "        # for each feature i and its value:\n",
        "        for i, value in enumerate(X_i):\n",
        "            hists[i][value] += [1, y_i, y_i**2]\n",
        "\n",
        "    return hists"
      ],
      "metadata": {
        "id": "U0lbALlD-wCs"
      },
      "execution_count": 9,
      "outputs": []
    },
    {
      "cell_type": "code",
      "source": [
        "LEAF_VALUE = -1\n",
        "\n",
        "class HistDT:\n",
        "\n",
        "    def __init__(self, max_depth):\n",
        "        self.max_depth = max_depth\n",
        "\n",
        "    def _get_splitting_feat(self, hists):\n",
        "        min_loss = np.inf\n",
        "        min_feat = None\n",
        "        min_thresh = None\n",
        "\n",
        "        for feature, hist in enumerate(hists):\n",
        "            loss, thresh = get_min_threshold_hist(hist)\n",
        "            if loss < min_loss:\n",
        "                min_loss = loss\n",
        "                min_feat = feature\n",
        "                min_thresh = thresh\n",
        "\n",
        "        return min_loss, min_thresh, min_feat\n",
        "\n",
        "    def _build_one(self, X, y, idxs, node_hists):\n",
        "        # determining the split only requires histogram data\n",
        "        min_loss, min_thresh, min_feat = self._get_splitting_feat(node_hists)\n",
        "\n",
        "        # this is O(n) though but w/e\n",
        "        mask = X[idxs,min_feat].flatten() < min_thresh\n",
        "        idxs_left = idxs[mask]\n",
        "        idxs_right = idxs[~mask]\n",
        "\n",
        "        return min_feat, min_thresh, idxs_left, idxs_right\n",
        "\n",
        "    def fit(self, X, y, by_col = True):\n",
        "\n",
        "        # assert X matrix is already binned\n",
        "        assert X.max() < 256\n",
        "\n",
        "        self.build_hist = build_hist_by_col if by_col else build_hist_by_row\n",
        "\n",
        "        # init structure\n",
        "        n_nodes = 2**self.max_depth - 1\n",
        "        self.thresh_values = np.empty(n_nodes, dtype=float)\n",
        "        self.thresh_features = np.full(n_nodes, LEAF_VALUE, dtype=int)\n",
        "        self.preds = np.empty(n_nodes, dtype=float)\n",
        "\n",
        "        # aux data to prevent copies\n",
        "        idxs = [None]*n_nodes\n",
        "        idxs[0] = np.arange(len(y))\n",
        "        hists = [None]*n_nodes\n",
        "        max_values = [X[:,i].max()+1 for i in range(X.shape[1])]\n",
        "        hists[0] = self.build_hist(X,y, max_values)\n",
        "\n",
        "        # for each node, build it\n",
        "        # exploit left_child = 2*parent+1, right_child=2*parent+2\n",
        "        for node_idx in range(len(self.thresh_values)):\n",
        "            curr_idxs = idxs[node_idx]\n",
        "            curr_hist = hists[node_idx]\n",
        "\n",
        "            # save pred for all nodes\n",
        "            self.preds[node_idx] = y[curr_idxs].mean()\n",
        "\n",
        "            # if it's a leaf, no point in building split\n",
        "            left_child_idx = 2*node_idx+1\n",
        "            if left_child_idx >= n_nodes:\n",
        "                continue\n",
        "\n",
        "            # do it in 2 steps for readability\n",
        "            results = self._build_one(X,y,curr_idxs,curr_hist)\n",
        "\n",
        "            self.thresh_features[node_idx] = results[0]\n",
        "            self.thresh_values[node_idx] = results[1]\n",
        "            idxs[left_child_idx] = results[2]\n",
        "            idxs[left_child_idx+1] = results[3]\n",
        "\n",
        "            # build hists for children\n",
        "            left_child_hists = self.build_hist(X[results[2]],y[results[2]], max_values)\n",
        "            hists[left_child_idx] = left_child_hists\n",
        "            hists[left_child_idx+1] = [curr-left_child for curr,left_child in zip(curr_hist, left_child_hists)]\n",
        "\n",
        "        del idxs\n",
        "        del hists\n",
        "\n",
        "    def predict(self, x):\n",
        "        idx = 0\n",
        "        while self.thresh_features[idx] != LEAF_VALUE:\n",
        "            is_right = x[self.thresh_features[idx]] >= self.thresh_values[idx]\n",
        "            idx = 2*idx+1+is_right\n",
        "        return self.preds[idx]"
      ],
      "metadata": {
        "id": "9V231BDZMpPa"
      },
      "execution_count": 129,
      "outputs": []
    },
    {
      "cell_type": "markdown",
      "source": [
        "## California Housing"
      ],
      "metadata": {
        "id": "M_M2C3j_jjXv"
      }
    },
    {
      "cell_type": "code",
      "source": [
        "full_X, full_y = fetch_california_housing(return_X_y=True)\n",
        "\n",
        "full_X.shape, full_y.shape"
      ],
      "metadata": {
        "colab": {
          "base_uri": "https://localhost:8080/"
        },
        "id": "fvtx9Ks1bwnH",
        "outputId": "7fb4c80e-7d22-4176-eed3-83ff3dc1d7ea"
      },
      "execution_count": 113,
      "outputs": [
        {
          "output_type": "execute_result",
          "data": {
            "text/plain": [
              "((20640, 8), (20640,))"
            ]
          },
          "metadata": {},
          "execution_count": 113
        }
      ]
    },
    {
      "cell_type": "code",
      "source": [
        "dfX = pd.DataFrame(full_X)\n",
        "\n",
        "dfX.agg(lambda x:x.value_counts().values[:5],axis=0) / len(full_X)"
      ],
      "metadata": {
        "colab": {
          "base_uri": "https://localhost:8080/",
          "height": 206
        },
        "id": "-Pq-jW-tcV-o",
        "outputId": "2eb328ba-05af-4201-b3ce-c8d4348ac16f"
      },
      "execution_count": 14,
      "outputs": [
        {
          "output_type": "execute_result",
          "data": {
            "text/plain": [
              "          0         1         2         3         4         5         6  \\\n",
              "0  0.002374  0.061676  0.001308  0.013953  0.001211  0.001696  0.011822   \n",
              "1  0.002374  0.041764  0.001066  0.001405  0.001163  0.000872  0.011434   \n",
              "2  0.002229  0.039922  0.001017  0.001260  0.001163  0.000824  0.011337   \n",
              "3  0.002132  0.037355  0.000969  0.001211  0.001163  0.000775  0.011192   \n",
              "4  0.002132  0.033818  0.000630  0.001211  0.001163  0.000630  0.010707   \n",
              "\n",
              "          7  \n",
              "0  0.007849  \n",
              "1  0.007752  \n",
              "2  0.007171  \n",
              "3  0.006977  \n",
              "4  0.006880  "
            ],
            "text/html": [
              "\n",
              "  <div id=\"df-e516bfa1-e9ce-4399-ad14-969af7562a35\" class=\"colab-df-container\">\n",
              "    <div>\n",
              "<style scoped>\n",
              "    .dataframe tbody tr th:only-of-type {\n",
              "        vertical-align: middle;\n",
              "    }\n",
              "\n",
              "    .dataframe tbody tr th {\n",
              "        vertical-align: top;\n",
              "    }\n",
              "\n",
              "    .dataframe thead th {\n",
              "        text-align: right;\n",
              "    }\n",
              "</style>\n",
              "<table border=\"1\" class=\"dataframe\">\n",
              "  <thead>\n",
              "    <tr style=\"text-align: right;\">\n",
              "      <th></th>\n",
              "      <th>0</th>\n",
              "      <th>1</th>\n",
              "      <th>2</th>\n",
              "      <th>3</th>\n",
              "      <th>4</th>\n",
              "      <th>5</th>\n",
              "      <th>6</th>\n",
              "      <th>7</th>\n",
              "    </tr>\n",
              "  </thead>\n",
              "  <tbody>\n",
              "    <tr>\n",
              "      <th>0</th>\n",
              "      <td>0.002374</td>\n",
              "      <td>0.061676</td>\n",
              "      <td>0.001308</td>\n",
              "      <td>0.013953</td>\n",
              "      <td>0.001211</td>\n",
              "      <td>0.001696</td>\n",
              "      <td>0.011822</td>\n",
              "      <td>0.007849</td>\n",
              "    </tr>\n",
              "    <tr>\n",
              "      <th>1</th>\n",
              "      <td>0.002374</td>\n",
              "      <td>0.041764</td>\n",
              "      <td>0.001066</td>\n",
              "      <td>0.001405</td>\n",
              "      <td>0.001163</td>\n",
              "      <td>0.000872</td>\n",
              "      <td>0.011434</td>\n",
              "      <td>0.007752</td>\n",
              "    </tr>\n",
              "    <tr>\n",
              "      <th>2</th>\n",
              "      <td>0.002229</td>\n",
              "      <td>0.039922</td>\n",
              "      <td>0.001017</td>\n",
              "      <td>0.001260</td>\n",
              "      <td>0.001163</td>\n",
              "      <td>0.000824</td>\n",
              "      <td>0.011337</td>\n",
              "      <td>0.007171</td>\n",
              "    </tr>\n",
              "    <tr>\n",
              "      <th>3</th>\n",
              "      <td>0.002132</td>\n",
              "      <td>0.037355</td>\n",
              "      <td>0.000969</td>\n",
              "      <td>0.001211</td>\n",
              "      <td>0.001163</td>\n",
              "      <td>0.000775</td>\n",
              "      <td>0.011192</td>\n",
              "      <td>0.006977</td>\n",
              "    </tr>\n",
              "    <tr>\n",
              "      <th>4</th>\n",
              "      <td>0.002132</td>\n",
              "      <td>0.033818</td>\n",
              "      <td>0.000630</td>\n",
              "      <td>0.001211</td>\n",
              "      <td>0.001163</td>\n",
              "      <td>0.000630</td>\n",
              "      <td>0.010707</td>\n",
              "      <td>0.006880</td>\n",
              "    </tr>\n",
              "  </tbody>\n",
              "</table>\n",
              "</div>\n",
              "    <div class=\"colab-df-buttons\">\n",
              "\n",
              "  <div class=\"colab-df-container\">\n",
              "    <button class=\"colab-df-convert\" onclick=\"convertToInteractive('df-e516bfa1-e9ce-4399-ad14-969af7562a35')\"\n",
              "            title=\"Convert this dataframe to an interactive table.\"\n",
              "            style=\"display:none;\">\n",
              "\n",
              "  <svg xmlns=\"http://www.w3.org/2000/svg\" height=\"24px\" viewBox=\"0 -960 960 960\">\n",
              "    <path d=\"M120-120v-720h720v720H120Zm60-500h600v-160H180v160Zm220 220h160v-160H400v160Zm0 220h160v-160H400v160ZM180-400h160v-160H180v160Zm440 0h160v-160H620v160ZM180-180h160v-160H180v160Zm440 0h160v-160H620v160Z\"/>\n",
              "  </svg>\n",
              "    </button>\n",
              "\n",
              "  <style>\n",
              "    .colab-df-container {\n",
              "      display:flex;\n",
              "      gap: 12px;\n",
              "    }\n",
              "\n",
              "    .colab-df-convert {\n",
              "      background-color: #E8F0FE;\n",
              "      border: none;\n",
              "      border-radius: 50%;\n",
              "      cursor: pointer;\n",
              "      display: none;\n",
              "      fill: #1967D2;\n",
              "      height: 32px;\n",
              "      padding: 0 0 0 0;\n",
              "      width: 32px;\n",
              "    }\n",
              "\n",
              "    .colab-df-convert:hover {\n",
              "      background-color: #E2EBFA;\n",
              "      box-shadow: 0px 1px 2px rgba(60, 64, 67, 0.3), 0px 1px 3px 1px rgba(60, 64, 67, 0.15);\n",
              "      fill: #174EA6;\n",
              "    }\n",
              "\n",
              "    .colab-df-buttons div {\n",
              "      margin-bottom: 4px;\n",
              "    }\n",
              "\n",
              "    [theme=dark] .colab-df-convert {\n",
              "      background-color: #3B4455;\n",
              "      fill: #D2E3FC;\n",
              "    }\n",
              "\n",
              "    [theme=dark] .colab-df-convert:hover {\n",
              "      background-color: #434B5C;\n",
              "      box-shadow: 0px 1px 3px 1px rgba(0, 0, 0, 0.15);\n",
              "      filter: drop-shadow(0px 1px 2px rgba(0, 0, 0, 0.3));\n",
              "      fill: #FFFFFF;\n",
              "    }\n",
              "  </style>\n",
              "\n",
              "    <script>\n",
              "      const buttonEl =\n",
              "        document.querySelector('#df-e516bfa1-e9ce-4399-ad14-969af7562a35 button.colab-df-convert');\n",
              "      buttonEl.style.display =\n",
              "        google.colab.kernel.accessAllowed ? 'block' : 'none';\n",
              "\n",
              "      async function convertToInteractive(key) {\n",
              "        const element = document.querySelector('#df-e516bfa1-e9ce-4399-ad14-969af7562a35');\n",
              "        const dataTable =\n",
              "          await google.colab.kernel.invokeFunction('convertToInteractive',\n",
              "                                                    [key], {});\n",
              "        if (!dataTable) return;\n",
              "\n",
              "        const docLinkHtml = 'Like what you see? Visit the ' +\n",
              "          '<a target=\"_blank\" href=https://colab.research.google.com/notebooks/data_table.ipynb>data table notebook</a>'\n",
              "          + ' to learn more about interactive tables.';\n",
              "        element.innerHTML = '';\n",
              "        dataTable['output_type'] = 'display_data';\n",
              "        await google.colab.output.renderOutput(dataTable, element);\n",
              "        const docLink = document.createElement('div');\n",
              "        docLink.innerHTML = docLinkHtml;\n",
              "        element.appendChild(docLink);\n",
              "      }\n",
              "    </script>\n",
              "  </div>\n",
              "\n",
              "\n",
              "<div id=\"df-0d57e060-0117-44ad-9c6e-a272a8ad201c\">\n",
              "  <button class=\"colab-df-quickchart\" onclick=\"quickchart('df-0d57e060-0117-44ad-9c6e-a272a8ad201c')\"\n",
              "            title=\"Suggest charts\"\n",
              "            style=\"display:none;\">\n",
              "\n",
              "<svg xmlns=\"http://www.w3.org/2000/svg\" height=\"24px\"viewBox=\"0 0 24 24\"\n",
              "     width=\"24px\">\n",
              "    <g>\n",
              "        <path d=\"M19 3H5c-1.1 0-2 .9-2 2v14c0 1.1.9 2 2 2h14c1.1 0 2-.9 2-2V5c0-1.1-.9-2-2-2zM9 17H7v-7h2v7zm4 0h-2V7h2v10zm4 0h-2v-4h2v4z\"/>\n",
              "    </g>\n",
              "</svg>\n",
              "  </button>\n",
              "\n",
              "<style>\n",
              "  .colab-df-quickchart {\n",
              "      --bg-color: #E8F0FE;\n",
              "      --fill-color: #1967D2;\n",
              "      --hover-bg-color: #E2EBFA;\n",
              "      --hover-fill-color: #174EA6;\n",
              "      --disabled-fill-color: #AAA;\n",
              "      --disabled-bg-color: #DDD;\n",
              "  }\n",
              "\n",
              "  [theme=dark] .colab-df-quickchart {\n",
              "      --bg-color: #3B4455;\n",
              "      --fill-color: #D2E3FC;\n",
              "      --hover-bg-color: #434B5C;\n",
              "      --hover-fill-color: #FFFFFF;\n",
              "      --disabled-bg-color: #3B4455;\n",
              "      --disabled-fill-color: #666;\n",
              "  }\n",
              "\n",
              "  .colab-df-quickchart {\n",
              "    background-color: var(--bg-color);\n",
              "    border: none;\n",
              "    border-radius: 50%;\n",
              "    cursor: pointer;\n",
              "    display: none;\n",
              "    fill: var(--fill-color);\n",
              "    height: 32px;\n",
              "    padding: 0;\n",
              "    width: 32px;\n",
              "  }\n",
              "\n",
              "  .colab-df-quickchart:hover {\n",
              "    background-color: var(--hover-bg-color);\n",
              "    box-shadow: 0 1px 2px rgba(60, 64, 67, 0.3), 0 1px 3px 1px rgba(60, 64, 67, 0.15);\n",
              "    fill: var(--button-hover-fill-color);\n",
              "  }\n",
              "\n",
              "  .colab-df-quickchart-complete:disabled,\n",
              "  .colab-df-quickchart-complete:disabled:hover {\n",
              "    background-color: var(--disabled-bg-color);\n",
              "    fill: var(--disabled-fill-color);\n",
              "    box-shadow: none;\n",
              "  }\n",
              "\n",
              "  .colab-df-spinner {\n",
              "    border: 2px solid var(--fill-color);\n",
              "    border-color: transparent;\n",
              "    border-bottom-color: var(--fill-color);\n",
              "    animation:\n",
              "      spin 1s steps(1) infinite;\n",
              "  }\n",
              "\n",
              "  @keyframes spin {\n",
              "    0% {\n",
              "      border-color: transparent;\n",
              "      border-bottom-color: var(--fill-color);\n",
              "      border-left-color: var(--fill-color);\n",
              "    }\n",
              "    20% {\n",
              "      border-color: transparent;\n",
              "      border-left-color: var(--fill-color);\n",
              "      border-top-color: var(--fill-color);\n",
              "    }\n",
              "    30% {\n",
              "      border-color: transparent;\n",
              "      border-left-color: var(--fill-color);\n",
              "      border-top-color: var(--fill-color);\n",
              "      border-right-color: var(--fill-color);\n",
              "    }\n",
              "    40% {\n",
              "      border-color: transparent;\n",
              "      border-right-color: var(--fill-color);\n",
              "      border-top-color: var(--fill-color);\n",
              "    }\n",
              "    60% {\n",
              "      border-color: transparent;\n",
              "      border-right-color: var(--fill-color);\n",
              "    }\n",
              "    80% {\n",
              "      border-color: transparent;\n",
              "      border-right-color: var(--fill-color);\n",
              "      border-bottom-color: var(--fill-color);\n",
              "    }\n",
              "    90% {\n",
              "      border-color: transparent;\n",
              "      border-bottom-color: var(--fill-color);\n",
              "    }\n",
              "  }\n",
              "</style>\n",
              "\n",
              "  <script>\n",
              "    async function quickchart(key) {\n",
              "      const quickchartButtonEl =\n",
              "        document.querySelector('#' + key + ' button');\n",
              "      quickchartButtonEl.disabled = true;  // To prevent multiple clicks.\n",
              "      quickchartButtonEl.classList.add('colab-df-spinner');\n",
              "      try {\n",
              "        const charts = await google.colab.kernel.invokeFunction(\n",
              "            'suggestCharts', [key], {});\n",
              "      } catch (error) {\n",
              "        console.error('Error during call to suggestCharts:', error);\n",
              "      }\n",
              "      quickchartButtonEl.classList.remove('colab-df-spinner');\n",
              "      quickchartButtonEl.classList.add('colab-df-quickchart-complete');\n",
              "    }\n",
              "    (() => {\n",
              "      let quickchartButtonEl =\n",
              "        document.querySelector('#df-0d57e060-0117-44ad-9c6e-a272a8ad201c button');\n",
              "      quickchartButtonEl.style.display =\n",
              "        google.colab.kernel.accessAllowed ? 'block' : 'none';\n",
              "    })();\n",
              "  </script>\n",
              "</div>\n",
              "    </div>\n",
              "  </div>\n"
            ],
            "application/vnd.google.colaboratory.intrinsic+json": {
              "type": "dataframe",
              "summary": "{\n  \"name\": \"dfX\",\n  \"rows\": 5,\n  \"fields\": [\n    {\n      \"column\": 0,\n      \"properties\": {\n        \"dtype\": \"number\",\n        \"std\": 0.0001216075619962319,\n        \"min\": 0.002131782945736434,\n        \"max\": 0.002374031007751938,\n        \"num_unique_values\": 3,\n        \"samples\": [\n          0.002374031007751938,\n          0.0022286821705426356,\n          0.002131782945736434\n        ],\n        \"semantic_type\": \"\",\n        \"description\": \"\"\n      }\n    },\n    {\n      \"column\": 1,\n      \"properties\": {\n        \"dtype\": \"number\",\n        \"std\": 0.010908083505137958,\n        \"min\": 0.03381782945736434,\n        \"max\": 0.06167635658914729,\n        \"num_unique_values\": 5,\n        \"samples\": [\n          0.04176356589147287,\n          0.03381782945736434,\n          0.03992248062015504\n        ],\n        \"semantic_type\": \"\",\n        \"description\": \"\"\n      }\n    },\n    {\n      \"column\": 2,\n      \"properties\": {\n        \"dtype\": \"number\",\n        \"std\": 0.00024369721589068396,\n        \"min\": 0.0006298449612403101,\n        \"max\": 0.001308139534883721,\n        \"num_unique_values\": 5,\n        \"samples\": [\n          0.001065891472868217,\n          0.0006298449612403101,\n          0.0010174418604651163\n        ],\n        \"semantic_type\": \"\",\n        \"description\": \"\"\n      }\n    },\n    {\n      \"column\": 3,\n      \"properties\": {\n        \"dtype\": \"number\",\n        \"std\": 0.005671978556001354,\n        \"min\": 0.0012112403100775194,\n        \"max\": 0.013953488372093023,\n        \"num_unique_values\": 4,\n        \"samples\": [\n          0.0014050387596899225,\n          0.0012112403100775194,\n          0.013953488372093023\n        ],\n        \"semantic_type\": \"\",\n        \"description\": \"\"\n      }\n    },\n    {\n      \"column\": 4,\n      \"properties\": {\n        \"dtype\": \"number\",\n        \"std\": 2.1667325363370057e-05,\n        \"min\": 0.0011627906976744186,\n        \"max\": 0.0012112403100775194,\n        \"num_unique_values\": 2,\n        \"samples\": [\n          0.0011627906976744186,\n          0.0012112403100775194\n        ],\n        \"semantic_type\": \"\",\n        \"description\": \"\"\n      }\n    },\n    {\n      \"column\": 5,\n      \"properties\": {\n        \"dtype\": \"number\",\n        \"std\": 0.0004215394715921745,\n        \"min\": 0.0006298449612403101,\n        \"max\": 0.001695736434108527,\n        \"num_unique_values\": 5,\n        \"samples\": [\n          0.0008720930232558139,\n          0.0006298449612403101\n        ],\n        \"semantic_type\": \"\",\n        \"description\": \"\"\n      }\n    },\n    {\n      \"column\": 6,\n      \"properties\": {\n        \"dtype\": \"number\",\n        \"std\": 0.00040448898187484103,\n        \"min\": 0.010707364341085272,\n        \"max\": 0.011821705426356589,\n        \"num_unique_values\": 5,\n        \"samples\": [\n          0.011434108527131783,\n          0.010707364341085272\n        ],\n        \"semantic_type\": \"\",\n        \"description\": \"\"\n      }\n    },\n    {\n      \"column\": 7,\n      \"properties\": {\n        \"dtype\": \"number\",\n        \"std\": 0.00044720855655869506,\n        \"min\": 0.00687984496124031,\n        \"max\": 0.007848837209302326,\n        \"num_unique_values\": 5,\n        \"samples\": [\n          0.007751937984496124,\n          0.00687984496124031\n        ],\n        \"semantic_type\": \"\",\n        \"description\": \"\"\n      }\n    }\n  ]\n}"
            }
          },
          "metadata": {},
          "execution_count": 14
        }
      ]
    },
    {
      "cell_type": "code",
      "source": [
        "dfX.nunique(axis=0)"
      ],
      "metadata": {
        "colab": {
          "base_uri": "https://localhost:8080/"
        },
        "id": "fbuJAoSYdnKN",
        "outputId": "8d125f1e-b333-4851-efcd-923dc59d59b0"
      },
      "execution_count": 15,
      "outputs": [
        {
          "output_type": "execute_result",
          "data": {
            "text/plain": [
              "0    12928\n",
              "1       52\n",
              "2    19392\n",
              "3    14233\n",
              "4     3888\n",
              "5    18841\n",
              "6      862\n",
              "7      844\n",
              "dtype: int64"
            ]
          },
          "metadata": {},
          "execution_count": 15
        }
      ]
    },
    {
      "cell_type": "markdown",
      "source": [
        "Si bien varias de ellas ya están \"bineadas\" y por lo tanto no va a haber tanta ganancia en reducirlas a 256, podemos observar el funcionamiento igual."
      ],
      "metadata": {
        "id": "_LThbfBehtlx"
      }
    },
    {
      "cell_type": "code",
      "source": [
        "# baseline predictor\n",
        "\n",
        "((full_y.mean() - full_y)**2).mean()"
      ],
      "metadata": {
        "colab": {
          "base_uri": "https://localhost:8080/"
        },
        "id": "sCCHHyWCcavw",
        "outputId": "32c5935a-d079-4a85-ebd6-bc849c170767"
      },
      "execution_count": 114,
      "outputs": [
        {
          "output_type": "execute_result",
          "data": {
            "text/plain": [
              "1.3315503000818076"
            ]
          },
          "metadata": {},
          "execution_count": 114
        }
      ]
    },
    {
      "cell_type": "code",
      "source": [
        "%%time\n",
        "\n",
        "dt_classic = DecisionTree(5)\n",
        "dt_classic.fit(full_X, full_y)"
      ],
      "metadata": {
        "colab": {
          "base_uri": "https://localhost:8080/"
        },
        "id": "_SdOeubHeB8R",
        "outputId": "c7a73f3f-57cc-4b89-8534-2e3dc57993e3"
      },
      "execution_count": 115,
      "outputs": [
        {
          "output_type": "stream",
          "name": "stdout",
          "text": [
            "CPU times: user 2.72 s, sys: 8.97 ms, total: 2.73 s\n",
            "Wall time: 2.76 s\n"
          ]
        }
      ]
    },
    {
      "cell_type": "code",
      "source": [
        "%%time\n",
        "\n",
        "preds = np.array([dt_classic.predict(x) for x in full_X])\n",
        "\n",
        "((preds - full_y)**2).mean()"
      ],
      "metadata": {
        "colab": {
          "base_uri": "https://localhost:8080/"
        },
        "id": "dwmPJhbucHeL",
        "outputId": "039205ec-4f5c-413f-a869-b78fb1fd0498"
      },
      "execution_count": 116,
      "outputs": [
        {
          "output_type": "stream",
          "name": "stdout",
          "text": [
            "CPU times: user 125 ms, sys: 995 µs, total: 126 ms\n",
            "Wall time: 127 ms\n"
          ]
        },
        {
          "output_type": "execute_result",
          "data": {
            "text/plain": [
              "0.561544218021875"
            ]
          },
          "metadata": {},
          "execution_count": 116
        }
      ]
    },
    {
      "cell_type": "code",
      "source": [
        "# BINNING\n",
        "N_BINS = 256\n",
        "def to_quantiles(array, max_bins):\n",
        "    unique_values = np.unique(array)\n",
        "    if len(unique_values) > max_bins:\n",
        "        unique_values = np.quantile(array, np.linspace(0,1,max_bins))\n",
        "    return np.digitize(array, unique_values, right=True)"
      ],
      "metadata": {
        "id": "y9x3HNbHDRZf"
      },
      "execution_count": 117,
      "outputs": []
    },
    {
      "cell_type": "code",
      "source": [
        "# mostramos uso 1: caso de n_unique <= N_BINS\n",
        "prev = [1,2,3,1,5,1,2,1,6,1,2]\n",
        "res = to_quantiles(prev,N_BINS)\n",
        "\n",
        "plt.scatter(prev, res)\n",
        "plt.plot((min(prev),max(prev)),(min(res),max(res)), linestyle='dashed', color='gray')\n",
        "plt.show()"
      ],
      "metadata": {
        "colab": {
          "base_uri": "https://localhost:8080/",
          "height": 434
        },
        "id": "zyn0-KbVQ2se",
        "outputId": "8a0e78df-64e6-402d-e016-2c042448d21a"
      },
      "execution_count": 118,
      "outputs": [
        {
          "output_type": "display_data",
          "data": {
            "text/plain": [
              "<Figure size 640x480 with 1 Axes>"
            ],
            "image/png": "[encoded data removed]"
          },
          "metadata": {}
        }
      ]
    },
    {
      "cell_type": "code",
      "source": [
        "# mostramos uso 2: caso de n_unique > N_BINS\n",
        "prev = np.linspace(-1,1,1000)\n",
        "np.random.shuffle(prev)\n",
        "res = to_quantiles(prev,N_BINS)\n",
        "\n",
        "print(min(res),max(res), len(np.unique(res)))\n",
        "plt.scatter(prev, res)\n",
        "plt.plot((min(prev),max(prev)),(min(res),max(res)), linestyle='dashed', color='gray')\n",
        "plt.show()"
      ],
      "metadata": {
        "colab": {
          "base_uri": "https://localhost:8080/",
          "height": 452
        },
        "id": "fxEhvFX5RAQp",
        "outputId": "6f7023b3-c1f6-4e36-c039-361b5ecae423"
      },
      "execution_count": 119,
      "outputs": [
        {
          "output_type": "stream",
          "name": "stdout",
          "text": [
            "0 255 256\n"
          ]
        },
        {
          "output_type": "display_data",
          "data": {
            "text/plain": [
              "<Figure size 640x480 with 1 Axes>"
            ],
            "image/png": "[encoded data removed]"
          },
          "metadata": {}
        }
      ]
    },
    {
      "cell_type": "code",
      "source": [
        "# binneamos X\n",
        "full_X_binned = np.column_stack([to_quantiles(full_X[:,i], N_BINS) for i in range(full_X.shape[1])]).astype(np.uint8)\n",
        "\n",
        "pd.DataFrame({'binned':pd.DataFrame(full_X_binned).nunique(), 'original':dfX.nunique(axis=0)})"
      ],
      "metadata": {
        "colab": {
          "base_uri": "https://localhost:8080/",
          "height": 300
        },
        "id": "qawuk-o8VTdj",
        "outputId": "a1bd24dd-a3f2-4b32-951c-04f64981ab00"
      },
      "execution_count": 120,
      "outputs": [
        {
          "output_type": "execute_result",
          "data": {
            "text/plain": [
              "   binned  original\n",
              "0     256     12928\n",
              "1      52        52\n",
              "2     256     19392\n",
              "3     254     14233\n",
              "4     256      3888\n",
              "5     256     18841\n",
              "6     210       862\n",
              "7     235       844"
            ],
            "text/html": [
              "\n",
              "  <div id=\"df-3195a02a-67a1-46b6-82aa-2db3dfa1e36f\" class=\"colab-df-container\">\n",
              "    <div>\n",
              "<style scoped>\n",
              "    .dataframe tbody tr th:only-of-type {\n",
              "        vertical-align: middle;\n",
              "    }\n",
              "\n",
              "    .dataframe tbody tr th {\n",
              "        vertical-align: top;\n",
              "    }\n",
              "\n",
              "    .dataframe thead th {\n",
              "        text-align: right;\n",
              "    }\n",
              "</style>\n",
              "<table border=\"1\" class=\"dataframe\">\n",
              "  <thead>\n",
              "    <tr style=\"text-align: right;\">\n",
              "      <th></th>\n",
              "      <th>binned</th>\n",
              "      <th>original</th>\n",
              "    </tr>\n",
              "  </thead>\n",
              "  <tbody>\n",
              "    <tr>\n",
              "      <th>0</th>\n",
              "      <td>256</td>\n",
              "      <td>12928</td>\n",
              "    </tr>\n",
              "    <tr>\n",
              "      <th>1</th>\n",
              "      <td>52</td>\n",
              "      <td>52</td>\n",
              "    </tr>\n",
              "    <tr>\n",
              "      <th>2</th>\n",
              "      <td>256</td>\n",
              "      <td>19392</td>\n",
              "    </tr>\n",
              "    <tr>\n",
              "      <th>3</th>\n",
              "      <td>254</td>\n",
              "      <td>14233</td>\n",
              "    </tr>\n",
              "    <tr>\n",
              "      <th>4</th>\n",
              "      <td>256</td>\n",
              "      <td>3888</td>\n",
              "    </tr>\n",
              "    <tr>\n",
              "      <th>5</th>\n",
              "      <td>256</td>\n",
              "      <td>18841</td>\n",
              "    </tr>\n",
              "    <tr>\n",
              "      <th>6</th>\n",
              "      <td>210</td>\n",
              "      <td>862</td>\n",
              "    </tr>\n",
              "    <tr>\n",
              "      <th>7</th>\n",
              "      <td>235</td>\n",
              "      <td>844</td>\n",
              "    </tr>\n",
              "  </tbody>\n",
              "</table>\n",
              "</div>\n",
              "    <div class=\"colab-df-buttons\">\n",
              "\n",
              "  <div class=\"colab-df-container\">\n",
              "    <button class=\"colab-df-convert\" onclick=\"convertToInteractive('df-3195a02a-67a1-46b6-82aa-2db3dfa1e36f')\"\n",
              "            title=\"Convert this dataframe to an interactive table.\"\n",
              "            style=\"display:none;\">\n",
              "\n",
              "  <svg xmlns=\"http://www.w3.org/2000/svg\" height=\"24px\" viewBox=\"0 -960 960 960\">\n",
              "    <path d=\"M120-120v-720h720v720H120Zm60-500h600v-160H180v160Zm220 220h160v-160H400v160Zm0 220h160v-160H400v160ZM180-400h160v-160H180v160Zm440 0h160v-160H620v160ZM180-180h160v-160H180v160Zm440 0h160v-160H620v160Z\"/>\n",
              "  </svg>\n",
              "    </button>\n",
              "\n",
              "  <style>\n",
              "    .colab-df-container {\n",
              "      display:flex;\n",
              "      gap: 12px;\n",
              "    }\n",
              "\n",
              "    .colab-df-convert {\n",
              "      background-color: #E8F0FE;\n",
              "      border: none;\n",
              "      border-radius: 50%;\n",
              "      cursor: pointer;\n",
              "      display: none;\n",
              "      fill: #1967D2;\n",
              "      height: 32px;\n",
              "      padding: 0 0 0 0;\n",
              "      width: 32px;\n",
              "    }\n",
              "\n",
              "    .colab-df-convert:hover {\n",
              "      background-color: #E2EBFA;\n",
              "      box-shadow: 0px 1px 2px rgba(60, 64, 67, 0.3), 0px 1px 3px 1px rgba(60, 64, 67, 0.15);\n",
              "      fill: #174EA6;\n",
              "    }\n",
              "\n",
              "    .colab-df-buttons div {\n",
              "      margin-bottom: 4px;\n",
              "    }\n",
              "\n",
              "    [theme=dark] .colab-df-convert {\n",
              "      background-color: #3B4455;\n",
              "      fill: #D2E3FC;\n",
              "    }\n",
              "\n",
              "    [theme=dark] .colab-df-convert:hover {\n",
              "      background-color: #434B5C;\n",
              "      box-shadow: 0px 1px 3px 1px rgba(0, 0, 0, 0.15);\n",
              "      filter: drop-shadow(0px 1px 2px rgba(0, 0, 0, 0.3));\n",
              "      fill: #FFFFFF;\n",
              "    }\n",
              "  </style>\n",
              "\n",
              "    <script>\n",
              "      const buttonEl =\n",
              "        document.querySelector('#df-3195a02a-67a1-46b6-82aa-2db3dfa1e36f button.colab-df-convert');\n",
              "      buttonEl.style.display =\n",
              "        google.colab.kernel.accessAllowed ? 'block' : 'none';\n",
              "\n",
              "      async function convertToInteractive(key) {\n",
              "        const element = document.querySelector('#df-3195a02a-67a1-46b6-82aa-2db3dfa1e36f');\n",
              "        const dataTable =\n",
              "          await google.colab.kernel.invokeFunction('convertToInteractive',\n",
              "                                                    [key], {});\n",
              "        if (!dataTable) return;\n",
              "\n",
              "        const docLinkHtml = 'Like what you see? Visit the ' +\n",
              "          '<a target=\"_blank\" href=https://colab.research.google.com/notebooks/data_table.ipynb>data table notebook</a>'\n",
              "          + ' to learn more about interactive tables.';\n",
              "        element.innerHTML = '';\n",
              "        dataTable['output_type'] = 'display_data';\n",
              "        await google.colab.output.renderOutput(dataTable, element);\n",
              "        const docLink = document.createElement('div');\n",
              "        docLink.innerHTML = docLinkHtml;\n",
              "        element.appendChild(docLink);\n",
              "      }\n",
              "    </script>\n",
              "  </div>\n",
              "\n",
              "\n",
              "<div id=\"df-8b30d16f-faeb-44dc-b3a7-64eb0120de2f\">\n",
              "  <button class=\"colab-df-quickchart\" onclick=\"quickchart('df-8b30d16f-faeb-44dc-b3a7-64eb0120de2f')\"\n",
              "            title=\"Suggest charts\"\n",
              "            style=\"display:none;\">\n",
              "\n",
              "<svg xmlns=\"http://www.w3.org/2000/svg\" height=\"24px\"viewBox=\"0 0 24 24\"\n",
              "     width=\"24px\">\n",
              "    <g>\n",
              "        <path d=\"M19 3H5c-1.1 0-2 .9-2 2v14c0 1.1.9 2 2 2h14c1.1 0 2-.9 2-2V5c0-1.1-.9-2-2-2zM9 17H7v-7h2v7zm4 0h-2V7h2v10zm4 0h-2v-4h2v4z\"/>\n",
              "    </g>\n",
              "</svg>\n",
              "  </button>\n",
              "\n",
              "<style>\n",
              "  .colab-df-quickchart {\n",
              "      --bg-color: #E8F0FE;\n",
              "      --fill-color: #1967D2;\n",
              "      --hover-bg-color: #E2EBFA;\n",
              "      --hover-fill-color: #174EA6;\n",
              "      --disabled-fill-color: #AAA;\n",
              "      --disabled-bg-color: #DDD;\n",
              "  }\n",
              "\n",
              "  [theme=dark] .colab-df-quickchart {\n",
              "      --bg-color: #3B4455;\n",
              "      --fill-color: #D2E3FC;\n",
              "      --hover-bg-color: #434B5C;\n",
              "      --hover-fill-color: #FFFFFF;\n",
              "      --disabled-bg-color: #3B4455;\n",
              "      --disabled-fill-color: #666;\n",
              "  }\n",
              "\n",
              "  .colab-df-quickchart {\n",
              "    background-color: var(--bg-color);\n",
              "    border: none;\n",
              "    border-radius: 50%;\n",
              "    cursor: pointer;\n",
              "    display: none;\n",
              "    fill: var(--fill-color);\n",
              "    height: 32px;\n",
              "    padding: 0;\n",
              "    width: 32px;\n",
              "  }\n",
              "\n",
              "  .colab-df-quickchart:hover {\n",
              "    background-color: var(--hover-bg-color);\n",
              "    box-shadow: 0 1px 2px rgba(60, 64, 67, 0.3), 0 1px 3px 1px rgba(60, 64, 67, 0.15);\n",
              "    fill: var(--button-hover-fill-color);\n",
              "  }\n",
              "\n",
              "  .colab-df-quickchart-complete:disabled,\n",
              "  .colab-df-quickchart-complete:disabled:hover {\n",
              "    background-color: var(--disabled-bg-color);\n",
              "    fill: var(--disabled-fill-color);\n",
              "    box-shadow: none;\n",
              "  }\n",
              "\n",
              "  .colab-df-spinner {\n",
              "    border: 2px solid var(--fill-color);\n",
              "    border-color: transparent;\n",
              "    border-bottom-color: var(--fill-color);\n",
              "    animation:\n",
              "      spin 1s steps(1) infinite;\n",
              "  }\n",
              "\n",
              "  @keyframes spin {\n",
              "    0% {\n",
              "      border-color: transparent;\n",
              "      border-bottom-color: var(--fill-color);\n",
              "      border-left-color: var(--fill-color);\n",
              "    }\n",
              "    20% {\n",
              "      border-color: transparent;\n",
              "      border-left-color: var(--fill-color);\n",
              "      border-top-color: var(--fill-color);\n",
              "    }\n",
              "    30% {\n",
              "      border-color: transparent;\n",
              "      border-left-color: var(--fill-color);\n",
              "      border-top-color: var(--fill-color);\n",
              "      border-right-color: var(--fill-color);\n",
              "    }\n",
              "    40% {\n",
              "      border-color: transparent;\n",
              "      border-right-color: var(--fill-color);\n",
              "      border-top-color: var(--fill-color);\n",
              "    }\n",
              "    60% {\n",
              "      border-color: transparent;\n",
              "      border-right-color: var(--fill-color);\n",
              "    }\n",
              "    80% {\n",
              "      border-color: transparent;\n",
              "      border-right-color: var(--fill-color);\n",
              "      border-bottom-color: var(--fill-color);\n",
              "    }\n",
              "    90% {\n",
              "      border-color: transparent;\n",
              "      border-bottom-color: var(--fill-color);\n",
              "    }\n",
              "  }\n",
              "</style>\n",
              "\n",
              "  <script>\n",
              "    async function quickchart(key) {\n",
              "      const quickchartButtonEl =\n",
              "        document.querySelector('#' + key + ' button');\n",
              "      quickchartButtonEl.disabled = true;  // To prevent multiple clicks.\n",
              "      quickchartButtonEl.classList.add('colab-df-spinner');\n",
              "      try {\n",
              "        const charts = await google.colab.kernel.invokeFunction(\n",
              "            'suggestCharts', [key], {});\n",
              "      } catch (error) {\n",
              "        console.error('Error during call to suggestCharts:', error);\n",
              "      }\n",
              "      quickchartButtonEl.classList.remove('colab-df-spinner');\n",
              "      quickchartButtonEl.classList.add('colab-df-quickchart-complete');\n",
              "    }\n",
              "    (() => {\n",
              "      let quickchartButtonEl =\n",
              "        document.querySelector('#df-8b30d16f-faeb-44dc-b3a7-64eb0120de2f button');\n",
              "      quickchartButtonEl.style.display =\n",
              "        google.colab.kernel.accessAllowed ? 'block' : 'none';\n",
              "    })();\n",
              "  </script>\n",
              "</div>\n",
              "    </div>\n",
              "  </div>\n"
            ],
            "application/vnd.google.colaboratory.intrinsic+json": {
              "type": "dataframe",
              "summary": "{\n  \"name\": \"pd\",\n  \"rows\": 8,\n  \"fields\": [\n    {\n      \"column\": \"binned\",\n      \"properties\": {\n        \"dtype\": \"number\",\n        \"std\": 70,\n        \"min\": 52,\n        \"max\": 256,\n        \"num_unique_values\": 5,\n        \"samples\": [\n          52,\n          235,\n          254\n        ],\n        \"semantic_type\": \"\",\n        \"description\": \"\"\n      }\n    },\n    {\n      \"column\": \"original\",\n      \"properties\": {\n        \"dtype\": \"number\",\n        \"std\": 8336,\n        \"min\": 52,\n        \"max\": 19392,\n        \"num_unique_values\": 8,\n        \"samples\": [\n          52,\n          18841,\n          12928\n        ],\n        \"semantic_type\": \"\",\n        \"description\": \"\"\n      }\n    }\n  ]\n}"
            }
          },
          "metadata": {},
          "execution_count": 120
        }
      ]
    },
    {
      "cell_type": "code",
      "source": [
        "full_X_binned.dtype"
      ],
      "metadata": {
        "colab": {
          "base_uri": "https://localhost:8080/"
        },
        "id": "vlTdurkpjgH2",
        "outputId": "8088306c-f8b8-4cc3-8104-5d9983a6e6b5"
      },
      "execution_count": 121,
      "outputs": [
        {
          "output_type": "execute_result",
          "data": {
            "text/plain": [
              "dtype('uint8')"
            ]
          },
          "metadata": {},
          "execution_count": 121
        }
      ]
    },
    {
      "cell_type": "code",
      "source": [
        "full_X.nbytes, full_X_binned.nbytes, round(full_X.nbytes / full_X_binned.nbytes,2)"
      ],
      "metadata": {
        "colab": {
          "base_uri": "https://localhost:8080/"
        },
        "id": "CmuXvJW-hqzg",
        "outputId": "fa6aab28-7973-42d9-b3f0-449cbf087371"
      },
      "execution_count": 122,
      "outputs": [
        {
          "output_type": "execute_result",
          "data": {
            "text/plain": [
              "(1320960, 165120, 8.0)"
            ]
          },
          "metadata": {},
          "execution_count": 122
        }
      ]
    },
    {
      "cell_type": "code",
      "source": [
        "%%time\n",
        "\n",
        "dt_classic_binned = DecisionTree(5)\n",
        "dt_classic_binned.fit(full_X_binned, full_y)"
      ],
      "metadata": {
        "colab": {
          "base_uri": "https://localhost:8080/"
        },
        "id": "ZwFIoaf0XAK_",
        "outputId": "0efb6097-9ca4-466b-f553-80e7ff1f3f9a"
      },
      "execution_count": 123,
      "outputs": [
        {
          "output_type": "stream",
          "name": "stdout",
          "text": [
            "CPU times: user 2.55 s, sys: 7.99 ms, total: 2.55 s\n",
            "Wall time: 2.57 s\n"
          ]
        }
      ]
    },
    {
      "cell_type": "code",
      "source": [
        "%%time\n",
        "\n",
        "preds = np.array([dt_classic_binned.predict(x) for x in full_X_binned])\n",
        "\n",
        "((preds - full_y)**2).mean()"
      ],
      "metadata": {
        "colab": {
          "base_uri": "https://localhost:8080/"
        },
        "id": "nz0qEdcIXI_t",
        "outputId": "6fd674a0-5eec-44ca-b04f-a14b469fe673"
      },
      "execution_count": 124,
      "outputs": [
        {
          "output_type": "stream",
          "name": "stdout",
          "text": [
            "CPU times: user 135 ms, sys: 0 ns, total: 135 ms\n",
            "Wall time: 138 ms\n"
          ]
        },
        {
          "output_type": "execute_result",
          "data": {
            "text/plain": [
              "0.5647070009738583"
            ]
          },
          "metadata": {},
          "execution_count": 124
        }
      ]
    },
    {
      "cell_type": "code",
      "source": [
        "%%time\n",
        "\n",
        "dt_hist = HistDT(5)\n",
        "dt_hist.fit(full_X_binned, full_y)"
      ],
      "metadata": {
        "colab": {
          "base_uri": "https://localhost:8080/"
        },
        "id": "LTwjNYkQRtBg",
        "outputId": "e1be7f84-665e-4087-ab64-fc90feac882d"
      },
      "execution_count": 132,
      "outputs": [
        {
          "output_type": "stream",
          "name": "stdout",
          "text": [
            "CPU times: user 665 ms, sys: 3.99 ms, total: 669 ms\n",
            "Wall time: 674 ms\n"
          ]
        }
      ]
    },
    {
      "cell_type": "code",
      "source": [
        "%%time\n",
        "\n",
        "preds = np.array([dt_hist.predict(x) for x in full_X_binned])\n",
        "\n",
        "((preds - full_y)**2).mean()"
      ],
      "metadata": {
        "id": "HaFv2AIrRs_T",
        "colab": {
          "base_uri": "https://localhost:8080/"
        },
        "outputId": "5052c132-c154-4244-a5f5-28e818a24d99"
      },
      "execution_count": 133,
      "outputs": [
        {
          "output_type": "stream",
          "name": "stdout",
          "text": [
            "CPU times: user 135 ms, sys: 2 µs, total: 135 ms\n",
            "Wall time: 136 ms\n"
          ]
        },
        {
          "output_type": "execute_result",
          "data": {
            "text/plain": [
              "0.562320214872016"
            ]
          },
          "metadata": {},
          "execution_count": 133
        }
      ]
    },
    {
      "cell_type": "markdown",
      "source": [
        "Ahora probamos con el otro constructor de histogramas"
      ],
      "metadata": {
        "id": "n5l6ZL3OjI1_"
      }
    },
    {
      "cell_type": "code",
      "source": [
        "%%time\n",
        "\n",
        "dt_hist2 = HistDT(5)\n",
        "dt_hist2.fit(full_X_binned, full_y,False)"
      ],
      "metadata": {
        "colab": {
          "base_uri": "https://localhost:8080/"
        },
        "id": "52hq0Yz3jIWA",
        "outputId": "eb6f0e65-c538-45ed-f9a0-cdfc65d07a19"
      },
      "execution_count": 134,
      "outputs": [
        {
          "output_type": "stream",
          "name": "stdout",
          "text": [
            "CPU times: user 2.47 s, sys: 13.9 ms, total: 2.49 s\n",
            "Wall time: 2.55 s\n"
          ]
        }
      ]
    },
    {
      "cell_type": "code",
      "source": [
        "%%time\n",
        "\n",
        "preds = np.array([dt_hist2.predict(x) for x in full_X_binned])\n",
        "\n",
        "((preds - full_y)**2).mean()"
      ],
      "metadata": {
        "colab": {
          "base_uri": "https://localhost:8080/"
        },
        "id": "t3i2c6xEjR_d",
        "outputId": "0c6b1536-1fc1-4c24-86b9-2e84245285d4"
      },
      "execution_count": 135,
      "outputs": [
        {
          "output_type": "stream",
          "name": "stdout",
          "text": [
            "CPU times: user 234 ms, sys: 992 µs, total: 235 ms\n",
            "Wall time: 252 ms\n"
          ]
        },
        {
          "output_type": "execute_result",
          "data": {
            "text/plain": [
              "0.562320214872016"
            ]
          },
          "metadata": {},
          "execution_count": 135
        }
      ]
    },
    {
      "cell_type": "markdown",
      "source": [
        "Vemos que efectivamente el constructor por columnas es más rápido."
      ],
      "metadata": {
        "id": "EfSn3V5ksXo8"
      }
    },
    {
      "cell_type": "markdown",
      "source": [
        "## Benchmarking"
      ],
      "metadata": {
        "id": "9NeUZVVQTJF3"
      }
    },
    {
      "cell_type": "code",
      "source": [
        "def sample_time(X,y,model_build_f, sample='all', binning=False, rounds=1000, seed=1234):\n",
        "    # bootstrap\n",
        "    if sample=='all':\n",
        "        sample = len(y)\n",
        "        replace = True\n",
        "    else:\n",
        "        assert sample < len(y)\n",
        "        replace = False\n",
        "\n",
        "    rng = np.random.default_rng(seed)\n",
        "\n",
        "    def sample_measure():\n",
        "        idx_bs = rng.choice(len(y),sample,replace=replace)\n",
        "        X_bs = X[idx_bs]\n",
        "        y_bs = y[idx_bs]\n",
        "        model = model_build_f()\n",
        "        if binning:\n",
        "            X_bs = np.column_stack([to_quantiles(X_bs[:,i], N_BINS) for i in range(X_bs.shape[1])])\n",
        "        elapsed = time.time()\n",
        "        model.fit(X_bs,y_bs)\n",
        "        return time.time() - elapsed\n",
        "\n",
        "    return [sample_measure() for i in tqdm(range(rounds), total=rounds)]"
      ],
      "metadata": {
        "id": "CdA0yU3eTK9n"
      },
      "execution_count": 95,
      "outputs": []
    },
    {
      "cell_type": "markdown",
      "source": [
        "### BNG(cpu_small)"
      ],
      "metadata": {
        "id": "daxvtivCRt5B"
      }
    },
    {
      "cell_type": "code",
      "source": [
        "full_X, full_y = fetch_openml(name='BNG(cpu_small)',\n",
        "                              return_X_y=True, as_frame=False, parser='auto')\n",
        "\n",
        "full_X.shape, full_y.shape"
      ],
      "metadata": {
        "colab": {
          "base_uri": "https://localhost:8080/"
        },
        "id": "PcqfteT2RvLW",
        "outputId": "b7906e58-4c9f-407b-fd8e-1763a6697a91"
      },
      "execution_count": 88,
      "outputs": [
        {
          "output_type": "execute_result",
          "data": {
            "text/plain": [
              "((1000000, 12), (1000000,))"
            ]
          },
          "metadata": {},
          "execution_count": 88
        }
      ]
    },
    {
      "cell_type": "code",
      "source": [
        "DEPTH = 7\n",
        "N_SAMPLES = 100000\n",
        "ROUNDS = 50\n",
        "SEED = 1234"
      ],
      "metadata": {
        "id": "VS5pat-6Sd4r"
      },
      "execution_count": 107,
      "outputs": []
    },
    {
      "cell_type": "code",
      "source": [
        "res_classic = sample_time(full_X,full_y,lambda: DecisionTree(DEPTH),\n",
        "                          sample=N_SAMPLES, seed=SEED,\n",
        "                          rounds=ROUNDS)"
      ],
      "metadata": {
        "colab": {
          "base_uri": "https://localhost:8080/",
          "height": 49,
          "referenced_widgets": [
            "5336f76c1fef4f07a55e7ac94e5e1bce",
            "c1b65eaee8a6487ca867e29f857ada4a",
            "bc1b7c966fc3457f88894af90a1dc0c0",
            "2460fcdaa14942fe99a542507173d880",
            "25641c159d9441878e3e0776adc0866f",
            "f7d8ec3d107948f2ba0ed1ef92df630a",
            "49064419426b4e209ec550c5f2407163",
            "14353fc787ce406090929799bd893b4c",
            "d065416da4ef443383bc45dff6f23b2f",
            "c22fa214b748409199eaeecb30a9dfac",
            "49863d88de44499380b25421800d6fdd"
          ]
        },
        "id": "jFLs65NpcLDZ",
        "outputId": "4af614ba-1c68-4b85-e1f0-685e8c649dd3"
      },
      "execution_count": 108,
      "outputs": [
        {
          "output_type": "display_data",
          "data": {
            "text/plain": [
              "  0%|          | 0/50 [00:00<?, ?it/s]"
            ],
            "application/vnd.jupyter.widget-view+json": {
              "version_major": 2,
              "version_minor": 0,
              "model_id": "5336f76c1fef4f07a55e7ac94e5e1bce"
            }
          },
          "metadata": {}
        }
      ]
    },
    {
      "cell_type": "code",
      "source": [
        "res_classic_binned = sample_time(full_X,full_y,lambda: DecisionTree(DEPTH),\n",
        "                                 sample=N_SAMPLES, seed=SEED,\n",
        "                                 binning=True, rounds=ROUNDS)"
      ],
      "metadata": {
        "colab": {
          "base_uri": "https://localhost:8080/",
          "height": 49,
          "referenced_widgets": [
            "07feca8b00d74dbe9c6ea28e5215c8ac",
            "3cf0d45c760444e6b965df913608c705",
            "03f47bcebe55420ab46c096873bd2326",
            "7fdfd004a21b4d338cc46872c8b29434",
            "a53001052c96439d8df46125591bd3b4",
            "6f3a8edacd5e4e7a9da8bfb39d9e5799",
            "aff4013df78943b4838e807667cdccf0",
            "1942c8889c2d43e7b9cb7cc02e6df444",
            "ace4263a8c524e558b328052b9abc6ea",
            "0cdf4b6452544381bdc352821774dfaa",
            "49e1c5583293428389d709bb26629741"
          ]
        },
        "id": "VICiyjESX-HU",
        "outputId": "c99b2f31-949a-453a-8cc8-ee84fbbe5960"
      },
      "execution_count": 109,
      "outputs": [
        {
          "output_type": "display_data",
          "data": {
            "text/plain": [
              "  0%|          | 0/50 [00:00<?, ?it/s]"
            ],
            "application/vnd.jupyter.widget-view+json": {
              "version_major": 2,
              "version_minor": 0,
              "model_id": "07feca8b00d74dbe9c6ea28e5215c8ac"
            }
          },
          "metadata": {}
        }
      ]
    },
    {
      "cell_type": "code",
      "source": [
        "res_hist = sample_time(full_X,full_y,lambda: HistDT(DEPTH),\n",
        "                       sample=N_SAMPLES, seed=SEED,\n",
        "                       binning=True, rounds=ROUNDS)"
      ],
      "metadata": {
        "colab": {
          "base_uri": "https://localhost:8080/",
          "height": 49,
          "referenced_widgets": [
            "bf74518fbc7d4b8aa2ec0a6d8956e2ee",
            "de766b8856ca4bb29620285ab8101b8e",
            "a4fc3bab57d7441a83bafc7132b66c29",
            "c2a914e94c844dc7a6a87f0fe66d3676",
            "8c8901c487de4a3eaf30e4fff934dd9e",
            "783e35135c05454291fa20f27df0777a",
            "c977076c7cfb43d08ecb561495b745b0",
            "365baafbb7694ac9a05b7473ff2abb3f",
            "5edf4f6e7fc34241813839a6fe468513",
            "41fb7b8cb654473a803956a5c3b77528",
            "fb4a0e23b2124550a10cfa998af9e5a6"
          ]
        },
        "id": "tKGMBHuQZRyR",
        "outputId": "af6f15e3-36cf-44db-8f3f-3856eaf228f9"
      },
      "execution_count": 110,
      "outputs": [
        {
          "output_type": "display_data",
          "data": {
            "text/plain": [
              "  0%|          | 0/50 [00:00<?, ?it/s]"
            ],
            "application/vnd.jupyter.widget-view+json": {
              "version_major": 2,
              "version_minor": 0,
              "model_id": "bf74518fbc7d4b8aa2ec0a6d8956e2ee"
            }
          },
          "metadata": {}
        }
      ]
    },
    {
      "cell_type": "code",
      "source": [
        "# KDEs\n",
        "\n",
        "data_concat = res_classic + res_classic_binned + res_hist\n",
        "labels = ['classic']*len(res_classic) + ['classic_binned']*len(res_classic_binned)+['hist']*len(res_hist)\n",
        "sns.kdeplot(x=data_concat, hue=labels)\n",
        "plt.show()"
      ],
      "metadata": {
        "colab": {
          "base_uri": "https://localhost:8080/",
          "height": 440
        },
        "id": "jcWw-TsnZ7LW",
        "outputId": "bb3091fe-02d9-44a8-c172-7ce45868438a"
      },
      "execution_count": 111,
      "outputs": [
        {
          "output_type": "display_data",
          "data": {
            "text/plain": [
              "<Figure size 640x480 with 1 Axes>"
            ],
            "image/png": "[encoded data removed]"
          },
          "metadata": {}
        }
      ]
    },
    {
      "cell_type": "code",
      "source": [
        "timers_df = pd.DataFrame({\n",
        "    'classic':res_classic,\n",
        "    'classic_binned':res_classic_binned,\n",
        "    'hist': res_hist\n",
        "})\n",
        "\n",
        "timers_df['ratio_cls'] = timers_df['classic'] / timers_df['hist']\n",
        "timers_df['ratio_cls_bin'] = timers_df['classic_binned'] / timers_df['hist']\n",
        "\n",
        "timers_df.describe().round(3)"
      ],
      "metadata": {
        "colab": {
          "base_uri": "https://localhost:8080/",
          "height": 300
        },
        "id": "g6V09Z8MZX9u",
        "outputId": "4915696b-24c3-4666-a5c3-c93d013d431e"
      },
      "execution_count": 112,
      "outputs": [
        {
          "output_type": "execute_result",
          "data": {
            "text/plain": [
              "       classic  classic_binned    hist  ratio_cls  ratio_cls_bin\n",
              "count   50.000          50.000  50.000     50.000         50.000\n",
              "mean    30.787          30.742   7.500      4.120          4.116\n",
              "std      2.345           3.236   0.417      0.416          0.541\n",
              "min     29.578          29.179   6.836      3.688          3.631\n",
              "25%     29.776          29.495   7.006      3.845          3.838\n",
              "50%     30.218          29.986   7.682      3.996          3.965\n",
              "75%     30.840          30.679   7.861      4.327          4.290\n",
              "max     42.630          50.892   8.120      6.020          7.165"
            ],
            "text/html": [
              "\n",
              "  <div id=\"df-d15774b7-3808-4cc7-855f-4ba7ecb7e3d6\" class=\"colab-df-container\">\n",
              "    <div>\n",
              "<style scoped>\n",
              "    .dataframe tbody tr th:only-of-type {\n",
              "        vertical-align: middle;\n",
              "    }\n",
              "\n",
              "    .dataframe tbody tr th {\n",
              "        vertical-align: top;\n",
              "    }\n",
              "\n",
              "    .dataframe thead th {\n",
              "        text-align: right;\n",
              "    }\n",
              "</style>\n",
              "<table border=\"1\" class=\"dataframe\">\n",
              "  <thead>\n",
              "    <tr style=\"text-align: right;\">\n",
              "      <th></th>\n",
              "      <th>classic</th>\n",
              "      <th>classic_binned</th>\n",
              "      <th>hist</th>\n",
              "      <th>ratio_cls</th>\n",
              "      <th>ratio_cls_bin</th>\n",
              "    </tr>\n",
              "  </thead>\n",
              "  <tbody>\n",
              "    <tr>\n",
              "      <th>count</th>\n",
              "      <td>50.000</td>\n",
              "      <td>50.000</td>\n",
              "      <td>50.000</td>\n",
              "      <td>50.000</td>\n",
              "      <td>50.000</td>\n",
              "    </tr>\n",
              "    <tr>\n",
              "      <th>mean</th>\n",
              "      <td>30.787</td>\n",
              "      <td>30.742</td>\n",
              "      <td>7.500</td>\n",
              "      <td>4.120</td>\n",
              "      <td>4.116</td>\n",
              "    </tr>\n",
              "    <tr>\n",
              "      <th>std</th>\n",
              "      <td>2.345</td>\n",
              "      <td>3.236</td>\n",
              "      <td>0.417</td>\n",
              "      <td>0.416</td>\n",
              "      <td>0.541</td>\n",
              "    </tr>\n",
              "    <tr>\n",
              "      <th>min</th>\n",
              "      <td>29.578</td>\n",
              "      <td>29.179</td>\n",
              "      <td>6.836</td>\n",
              "      <td>3.688</td>\n",
              "      <td>3.631</td>\n",
              "    </tr>\n",
              "    <tr>\n",
              "      <th>25%</th>\n",
              "      <td>29.776</td>\n",
              "      <td>29.495</td>\n",
              "      <td>7.006</td>\n",
              "      <td>3.845</td>\n",
              "      <td>3.838</td>\n",
              "    </tr>\n",
              "    <tr>\n",
              "      <th>50%</th>\n",
              "      <td>30.218</td>\n",
              "      <td>29.986</td>\n",
              "      <td>7.682</td>\n",
              "      <td>3.996</td>\n",
              "      <td>3.965</td>\n",
              "    </tr>\n",
              "    <tr>\n",
              "      <th>75%</th>\n",
              "      <td>30.840</td>\n",
              "      <td>30.679</td>\n",
              "      <td>7.861</td>\n",
              "      <td>4.327</td>\n",
              "      <td>4.290</td>\n",
              "    </tr>\n",
              "    <tr>\n",
              "      <th>max</th>\n",
              "      <td>42.630</td>\n",
              "      <td>50.892</td>\n",
              "      <td>8.120</td>\n",
              "      <td>6.020</td>\n",
              "      <td>7.165</td>\n",
              "    </tr>\n",
              "  </tbody>\n",
              "</table>\n",
              "</div>\n",
              "    <div class=\"colab-df-buttons\">\n",
              "\n",
              "  <div class=\"colab-df-container\">\n",
              "    <button class=\"colab-df-convert\" onclick=\"convertToInteractive('df-d15774b7-3808-4cc7-855f-4ba7ecb7e3d6')\"\n",
              "            title=\"Convert this dataframe to an interactive table.\"\n",
              "            style=\"display:none;\">\n",
              "\n",
              "  <svg xmlns=\"http://www.w3.org/2000/svg\" height=\"24px\" viewBox=\"0 -960 960 960\">\n",
              "    <path d=\"M120-120v-720h720v720H120Zm60-500h600v-160H180v160Zm220 220h160v-160H400v160Zm0 220h160v-160H400v160ZM180-400h160v-160H180v160Zm440 0h160v-160H620v160ZM180-180h160v-160H180v160Zm440 0h160v-160H620v160Z\"/>\n",
              "  </svg>\n",
              "    </button>\n",
              "\n",
              "  <style>\n",
              "    .colab-df-container {\n",
              "      display:flex;\n",
              "      gap: 12px;\n",
              "    }\n",
              "\n",
              "    .colab-df-convert {\n",
              "      background-color: #E8F0FE;\n",
              "      border: none;\n",
              "      border-radius: 50%;\n",
              "      cursor: pointer;\n",
              "      display: none;\n",
              "      fill: #1967D2;\n",
              "      height: 32px;\n",
              "      padding: 0 0 0 0;\n",
              "      width: 32px;\n",
              "    }\n",
              "\n",
              "    .colab-df-convert:hover {\n",
              "      background-color: #E2EBFA;\n",
              "      box-shadow: 0px 1px 2px rgba(60, 64, 67, 0.3), 0px 1px 3px 1px rgba(60, 64, 67, 0.15);\n",
              "      fill: #174EA6;\n",
              "    }\n",
              "\n",
              "    .colab-df-buttons div {\n",
              "      margin-bottom: 4px;\n",
              "    }\n",
              "\n",
              "    [theme=dark] .colab-df-convert {\n",
              "      background-color: #3B4455;\n",
              "      fill: #D2E3FC;\n",
              "    }\n",
              "\n",
              "    [theme=dark] .colab-df-convert:hover {\n",
              "      background-color: #434B5C;\n",
              "      box-shadow: 0px 1px 3px 1px rgba(0, 0, 0, 0.15);\n",
              "      filter: drop-shadow(0px 1px 2px rgba(0, 0, 0, 0.3));\n",
              "      fill: #FFFFFF;\n",
              "    }\n",
              "  </style>\n",
              "\n",
              "    <script>\n",
              "      const buttonEl =\n",
              "        document.querySelector('#df-d15774b7-3808-4cc7-855f-4ba7ecb7e3d6 button.colab-df-convert');\n",
              "      buttonEl.style.display =\n",
              "        google.colab.kernel.accessAllowed ? 'block' : 'none';\n",
              "\n",
              "      async function convertToInteractive(key) {\n",
              "        const element = document.querySelector('#df-d15774b7-3808-4cc7-855f-4ba7ecb7e3d6');\n",
              "        const dataTable =\n",
              "          await google.colab.kernel.invokeFunction('convertToInteractive',\n",
              "                                                    [key], {});\n",
              "        if (!dataTable) return;\n",
              "\n",
              "        const docLinkHtml = 'Like what you see? Visit the ' +\n",
              "          '<a target=\"_blank\" href=https://colab.research.google.com/notebooks/data_table.ipynb>data table notebook</a>'\n",
              "          + ' to learn more about interactive tables.';\n",
              "        element.innerHTML = '';\n",
              "        dataTable['output_type'] = 'display_data';\n",
              "        await google.colab.output.renderOutput(dataTable, element);\n",
              "        const docLink = document.createElement('div');\n",
              "        docLink.innerHTML = docLinkHtml;\n",
              "        element.appendChild(docLink);\n",
              "      }\n",
              "    </script>\n",
              "  </div>\n",
              "\n",
              "\n",
              "<div id=\"df-9697dc73-38c6-4eba-9096-45f78ef783cb\">\n",
              "  <button class=\"colab-df-quickchart\" onclick=\"quickchart('df-9697dc73-38c6-4eba-9096-45f78ef783cb')\"\n",
              "            title=\"Suggest charts\"\n",
              "            style=\"display:none;\">\n",
              "\n",
              "<svg xmlns=\"http://www.w3.org/2000/svg\" height=\"24px\"viewBox=\"0 0 24 24\"\n",
              "     width=\"24px\">\n",
              "    <g>\n",
              "        <path d=\"M19 3H5c-1.1 0-2 .9-2 2v14c0 1.1.9 2 2 2h14c1.1 0 2-.9 2-2V5c0-1.1-.9-2-2-2zM9 17H7v-7h2v7zm4 0h-2V7h2v10zm4 0h-2v-4h2v4z\"/>\n",
              "    </g>\n",
              "</svg>\n",
              "  </button>\n",
              "\n",
              "<style>\n",
              "  .colab-df-quickchart {\n",
              "      --bg-color: #E8F0FE;\n",
              "      --fill-color: #1967D2;\n",
              "      --hover-bg-color: #E2EBFA;\n",
              "      --hover-fill-color: #174EA6;\n",
              "      --disabled-fill-color: #AAA;\n",
              "      --disabled-bg-color: #DDD;\n",
              "  }\n",
              "\n",
              "  [theme=dark] .colab-df-quickchart {\n",
              "      --bg-color: #3B4455;\n",
              "      --fill-color: #D2E3FC;\n",
              "      --hover-bg-color: #434B5C;\n",
              "      --hover-fill-color: #FFFFFF;\n",
              "      --disabled-bg-color: #3B4455;\n",
              "      --disabled-fill-color: #666;\n",
              "  }\n",
              "\n",
              "  .colab-df-quickchart {\n",
              "    background-color: var(--bg-color);\n",
              "    border: none;\n",
              "    border-radius: 50%;\n",
              "    cursor: pointer;\n",
              "    display: none;\n",
              "    fill: var(--fill-color);\n",
              "    height: 32px;\n",
              "    padding: 0;\n",
              "    width: 32px;\n",
              "  }\n",
              "\n",
              "  .colab-df-quickchart:hover {\n",
              "    background-color: var(--hover-bg-color);\n",
              "    box-shadow: 0 1px 2px rgba(60, 64, 67, 0.3), 0 1px 3px 1px rgba(60, 64, 67, 0.15);\n",
              "    fill: var(--button-hover-fill-color);\n",
              "  }\n",
              "\n",
              "  .colab-df-quickchart-complete:disabled,\n",
              "  .colab-df-quickchart-complete:disabled:hover {\n",
              "    background-color: var(--disabled-bg-color);\n",
              "    fill: var(--disabled-fill-color);\n",
              "    box-shadow: none;\n",
              "  }\n",
              "\n",
              "  .colab-df-spinner {\n",
              "    border: 2px solid var(--fill-color);\n",
              "    border-color: transparent;\n",
              "    border-bottom-color: var(--fill-color);\n",
              "    animation:\n",
              "      spin 1s steps(1) infinite;\n",
              "  }\n",
              "\n",
              "  @keyframes spin {\n",
              "    0% {\n",
              "      border-color: transparent;\n",
              "      border-bottom-color: var(--fill-color);\n",
              "      border-left-color: var(--fill-color);\n",
              "    }\n",
              "    20% {\n",
              "      border-color: transparent;\n",
              "      border-left-color: var(--fill-color);\n",
              "      border-top-color: var(--fill-color);\n",
              "    }\n",
              "    30% {\n",
              "      border-color: transparent;\n",
              "      border-left-color: var(--fill-color);\n",
              "      border-top-color: var(--fill-color);\n",
              "      border-right-color: var(--fill-color);\n",
              "    }\n",
              "    40% {\n",
              "      border-color: transparent;\n",
              "      border-right-color: var(--fill-color);\n",
              "      border-top-color: var(--fill-color);\n",
              "    }\n",
              "    60% {\n",
              "      border-color: transparent;\n",
              "      border-right-color: var(--fill-color);\n",
              "    }\n",
              "    80% {\n",
              "      border-color: transparent;\n",
              "      border-right-color: var(--fill-color);\n",
              "      border-bottom-color: var(--fill-color);\n",
              "    }\n",
              "    90% {\n",
              "      border-color: transparent;\n",
              "      border-bottom-color: var(--fill-color);\n",
              "    }\n",
              "  }\n",
              "</style>\n",
              "\n",
              "  <script>\n",
              "    async function quickchart(key) {\n",
              "      const quickchartButtonEl =\n",
              "        document.querySelector('#' + key + ' button');\n",
              "      quickchartButtonEl.disabled = true;  // To prevent multiple clicks.\n",
              "      quickchartButtonEl.classList.add('colab-df-spinner');\n",
              "      try {\n",
              "        const charts = await google.colab.kernel.invokeFunction(\n",
              "            'suggestCharts', [key], {});\n",
              "      } catch (error) {\n",
              "        console.error('Error during call to suggestCharts:', error);\n",
              "      }\n",
              "      quickchartButtonEl.classList.remove('colab-df-spinner');\n",
              "      quickchartButtonEl.classList.add('colab-df-quickchart-complete');\n",
              "    }\n",
              "    (() => {\n",
              "      let quickchartButtonEl =\n",
              "        document.querySelector('#df-9697dc73-38c6-4eba-9096-45f78ef783cb button');\n",
              "      quickchartButtonEl.style.display =\n",
              "        google.colab.kernel.accessAllowed ? 'block' : 'none';\n",
              "    })();\n",
              "  </script>\n",
              "</div>\n",
              "    </div>\n",
              "  </div>\n"
            ],
            "application/vnd.google.colaboratory.intrinsic+json": {
              "type": "dataframe",
              "summary": "{\n  \"name\": \"timers_df\",\n  \"rows\": 8,\n  \"fields\": [\n    {\n      \"column\": \"classic\",\n      \"properties\": {\n        \"dtype\": \"number\",\n        \"std\": 13.738121588693058,\n        \"min\": 2.345,\n        \"max\": 50.0,\n        \"num_unique_values\": 8,\n        \"samples\": [\n          30.787,\n          30.218,\n          50.0\n        ],\n        \"semantic_type\": \"\",\n        \"description\": \"\"\n      }\n    },\n    {\n      \"column\": \"classic_binned\",\n      \"properties\": {\n        \"dtype\": \"number\",\n        \"std\": 14.781703298697154,\n        \"min\": 3.236,\n        \"max\": 50.892,\n        \"num_unique_values\": 8,\n        \"samples\": [\n          30.742,\n          29.986,\n          50.0\n        ],\n        \"semantic_type\": \"\",\n        \"description\": \"\"\n      }\n    },\n    {\n      \"column\": \"hist\",\n      \"properties\": {\n        \"dtype\": \"number\",\n        \"std\": 15.587595368020779,\n        \"min\": 0.417,\n        \"max\": 50.0,\n        \"num_unique_values\": 8,\n        \"samples\": [\n          7.5,\n          7.682,\n          50.0\n        ],\n        \"semantic_type\": \"\",\n        \"description\": \"\"\n      }\n    },\n    {\n      \"column\": \"ratio_cls\",\n      \"properties\": {\n        \"dtype\": \"number\",\n        \"std\": 16.416955311941546,\n        \"min\": 0.416,\n        \"max\": 50.0,\n        \"num_unique_values\": 8,\n        \"samples\": [\n          4.12,\n          3.996,\n          50.0\n        ],\n        \"semantic_type\": \"\",\n        \"description\": \"\"\n      }\n    },\n    {\n      \"column\": \"ratio_cls_bin\",\n      \"properties\": {\n        \"dtype\": \"number\",\n        \"std\": 16.383521021789807,\n        \"min\": 0.541,\n        \"max\": 50.0,\n        \"num_unique_values\": 8,\n        \"samples\": [\n          4.116,\n          3.965,\n          50.0\n        ],\n        \"semantic_type\": \"\",\n        \"description\": \"\"\n      }\n    }\n  ]\n}"
            }
          },
          "metadata": {},
          "execution_count": 112
        }
      ]
    },
    {
      "cell_type": "code",
      "source": [],
      "metadata": {
        "id": "g6vCVyhablRs"
      },
      "execution_count": null,
      "outputs": []
    }
  ]
}